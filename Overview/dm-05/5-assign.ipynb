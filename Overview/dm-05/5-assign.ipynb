{
 "cells": [
  {
   "cell_type": "code",
   "execution_count": 1,
   "metadata": {},
   "outputs": [
    {
     "name": "stdout",
     "output_type": "stream",
     "text": [
      "0.013450000000000009\n",
      "0.26022304832713733\n"
     ]
    }
   ],
   "source": [
    "a=1/200\n",
    "tp=0.70\n",
    "tn=0.99\n",
    "\n",
    "posi=tp*a + (1-tn)*(1-a)\n",
    "print(posi)\n",
    "\n",
    "post_tp=tp*a/posi\n",
    "print(post_tp)"
   ]
  },
  {
   "cell_type": "code",
   "execution_count": 2,
   "metadata": {},
   "outputs": [
    {
     "name": "stdout",
     "output_type": "stream",
     "text": [
      "0.99\n",
      "0.995\n"
     ]
    }
   ],
   "source": [
    "nega=(tn)*a + (tn)*(1-a)\n",
    "print(nega)\n",
    "\n",
    "post_tn=tn*(1-a)/nega\n",
    "print(post_tn)"
   ]
  },
  {
   "cell_type": "code",
   "execution_count": 3,
   "metadata": {},
   "outputs": [
    {
     "name": "stdout",
     "output_type": "stream",
     "text": [
      "0.079\n",
      "0.8860759493670886\n"
     ]
    }
   ],
   "source": [
    "a=1/10\n",
    "tp=0.70\n",
    "tn=0.99\n",
    "\n",
    "posi=tp*a + (1-tn)*(1-a)\n",
    "print(posi)\n",
    "\n",
    "post_tp=tp*a/posi\n",
    "print(post_tp)"
   ]
  },
  {
   "cell_type": "code",
   "execution_count": 4,
   "metadata": {},
   "outputs": [
    {
     "name": "stdout",
     "output_type": "stream",
     "text": [
      "0.921\n",
      "0.9674267100977199\n"
     ]
    }
   ],
   "source": [
    "nega=(1-tp)*a + tn*(1-a)\n",
    "print(nega)\n",
    "\n",
    "post_tn=tn*(1-a)/nega\n",
    "print(post_tn)"
   ]
  },
  {
   "cell_type": "code",
   "execution_count": 5,
   "metadata": {},
   "outputs": [
    {
     "name": "stdout",
     "output_type": "stream",
     "text": [
      "0.9675244299674267\n",
      "0.9899000100999898\n"
     ]
    }
   ],
   "source": [
    "b=1-post_tn\n",
    "\n",
    "nega2=(1-tp)*b + tn*(1-b)\n",
    "print(nega2)\n",
    "\n",
    "post_tn2=tn*(1-b)/nega2\n",
    "print(post_tn2)"
   ]
  },
  {
   "cell_type": "markdown",
   "metadata": {},
   "source": [
    "2"
   ]
  },
  {
   "cell_type": "code",
   "execution_count": 6,
   "metadata": {},
   "outputs": [
    {
     "name": "stdout",
     "output_type": "stream",
     "text": [
      "0.0013333333333333333\n",
      "0.004000000000000001\n",
      "0.0013333333333333333\n"
     ]
    }
   ],
   "source": [
    "ringo = 2/10 * 2/10 *1/10 *  1/3\n",
    "print(ringo)\n",
    "\n",
    "itigo = 2/10 * 3/10 * 2/10 * 1/3\n",
    "print(itigo)\n",
    "\n",
    "mikan = 1/10 * 2/10 * 2/10 * 1/3\n",
    "print(mikan)"
   ]
  }
 ],
 "metadata": {
  "kernelspec": {
   "display_name": "ds2025",
   "language": "python",
   "name": "python3"
  },
  "language_info": {
   "codemirror_mode": {
    "name": "ipython",
    "version": 3
   },
   "file_extension": ".py",
   "mimetype": "text/x-python",
   "name": "python",
   "nbconvert_exporter": "python",
   "pygments_lexer": "ipython3",
   "version": "3.9.15"
  }
 },
 "nbformat": 4,
 "nbformat_minor": 4
}
