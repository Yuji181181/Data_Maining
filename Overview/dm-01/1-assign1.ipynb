{
 "cells": [
  {
   "cell_type": "code",
   "execution_count": 1,
   "id": "4bb45d32",
   "metadata": {},
   "outputs": [],
   "source": [
    "import pandas as pd\n",
    "import numpy as np\n",
    "from scipy import stats\n",
    "from sklearn.linear_model import LinearRegression"
   ]
  },
  {
   "cell_type": "code",
   "execution_count": 3,
   "id": "1674230c",
   "metadata": {},
   "outputs": [
    {
     "name": "stdout",
     "output_type": "stream",
     "text": [
      "0.22865511189799798\n"
     ]
    }
   ],
   "source": [
    "\n",
    "df = pd.read_csv('salary_1.csv', sep=\",\")\n",
    "\n",
    "\n",
    "def partial_corr(x, y, z):\n",
    "    reg_xz = LinearRegression().fit(z.reshape(-1,1), x)\n",
    "    res_x = x - reg_xz.predict(z.reshape(-1,1))\n",
    "\n",
    "    reg_yz = LinearRegression().fit(z.reshape(-1,1), y)\n",
    "    res_y = y - reg_yz.predict(z.reshape(-1,1))\n",
    "\n",
    "    return np.corrcoef(res_x, res_y)[0,1]\n",
    "\n",
    "x = df['PUBS'].values\n",
    "y = df['SALARY'].values\n",
    "z = df['TIME'].values\n",
    "\n",
    "r_partial = partial_corr(x, y, z)\n",
    "print(r_partial)"
   ]
  }
 ],
 "metadata": {
  "kernelspec": {
   "display_name": "ds2025",
   "language": "python",
   "name": "python3"
  },
  "language_info": {
   "codemirror_mode": {
    "name": "ipython",
    "version": 3
   },
   "file_extension": ".py",
   "mimetype": "text/x-python",
   "name": "python",
   "nbconvert_exporter": "python",
   "pygments_lexer": "ipython3",
   "version": "3.9.15"
  }
 },
 "nbformat": 4,
 "nbformat_minor": 5
}
