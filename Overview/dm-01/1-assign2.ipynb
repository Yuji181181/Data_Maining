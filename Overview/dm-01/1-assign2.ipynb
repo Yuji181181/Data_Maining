{
 "cells": [
  {
   "cell_type": "code",
   "execution_count": 1,
   "id": "165e34c4",
   "metadata": {},
   "outputs": [],
   "source": [
    "import pandas as pd\n",
    "import numpy as np\n",
    "from sklearn.preprocessing import StandardScaler\n",
    "import statsmodels.api as sm"
   ]
  },
  {
   "cell_type": "code",
   "execution_count": 2,
   "id": "6950c99f",
   "metadata": {},
   "outputs": [],
   "source": [
    "df = pd.read_csv('salary_1.csv')\n",
    "\n",
    "X = df[['TIME', 'PUBS']]\n",
    "y = df['SALARY']\n",
    "\n",
    "scaler = StandardScaler()\n",
    "X_std = scaler.fit_transform(X)\n",
    "X_std = pd.DataFrame(X_std, columns=X.columns)"
   ]
  },
  {
   "cell_type": "code",
   "execution_count": 3,
   "id": "43d3be42",
   "metadata": {},
   "outputs": [],
   "source": [
    "import statsmodels.formula.api as smf\n",
    "import itertools\n",
    "\n",
    "def calculate_aic(model):\n",
    "    return model.aic\n",
    "\n",
    "variables = X_std.columns.tolist()\n",
    "best_aic = np.inf\n",
    "best_combo = None\n",
    "best_model = None"
   ]
  },
  {
   "cell_type": "code",
   "execution_count": 4,
   "id": "11119698",
   "metadata": {},
   "outputs": [
    {
     "name": "stdout",
     "output_type": "stream",
     "text": [
      "('TIME',)\n",
      "                            OLS Regression Results                            \n",
      "==============================================================================\n",
      "Dep. Variable:                      y   R-squared:                       0.505\n",
      "Model:                            OLS   Adj. R-squared:                  0.466\n",
      "Method:                 Least Squares   F-statistic:                     13.24\n",
      "Date:                Mon, 22 Sep 2025   Prob (F-statistic):            0.00300\n",
      "Time:                        17:57:10   Log-Likelihood:                -150.10\n",
      "No. Observations:                  15   AIC:                             304.2\n",
      "Df Residuals:                      13   BIC:                             305.6\n",
      "Df Model:                           1                                         \n",
      "Covariance Type:            nonrobust                                         \n",
      "==============================================================================\n",
      "                 coef    std err          t      P>|t|      [0.025      0.975]\n",
      "------------------------------------------------------------------------------\n",
      "Intercept   5.305e+04   1487.954     35.650      0.000    4.98e+04    5.63e+04\n",
      "TIME        5414.4653   1487.954      3.639      0.003    2199.935    8628.996\n",
      "==============================================================================\n",
      "Omnibus:                        2.083   Durbin-Watson:                   1.540\n",
      "Prob(Omnibus):                  0.353   Jarque-Bera (JB):                0.920\n",
      "Skew:                          -0.604   Prob(JB):                        0.631\n",
      "Kurtosis:                       3.104   Cond. No.                         1.00\n",
      "==============================================================================\n",
      "\n",
      "Notes:\n",
      "[1] Standard Errors assume that the covariance matrix of the errors is correctly specified.\n"
     ]
    },
    {
     "name": "stderr",
     "output_type": "stream",
     "text": [
      "c:\\Users\\iniad\\miniconda3\\envs\\ds2025\\lib\\site-packages\\scipy\\stats\\_stats_py.py:1736: UserWarning: kurtosistest only valid for n>=20 ... continuing anyway, n=15\n",
      "  warnings.warn(\"kurtosistest only valid for n>=20 ... continuing \"\n"
     ]
    }
   ],
   "source": [
    "for k in range(1, len(variables)+1):\n",
    "    for combo in itertools.combinations(variables, k):\n",
    "        formula = 'y ~ ' + ' + '.join(combo)\n",
    "        data = X_std.copy()\n",
    "        data['y'] = y.values\n",
    "        model = smf.ols(formula, data=data).fit()\n",
    "        aic = calculate_aic(model)\n",
    "        if aic < best_aic:\n",
    "            best_aic = aic\n",
    "            best_combo = combo\n",
    "            best_model = model\n",
    "\n",
    "print(best_combo)\n",
    "print(best_model.summary())"
   ]
  }
 ],
 "metadata": {
  "kernelspec": {
   "display_name": "ds2025",
   "language": "python",
   "name": "python3"
  },
  "language_info": {
   "codemirror_mode": {
    "name": "ipython",
    "version": 3
   },
   "file_extension": ".py",
   "mimetype": "text/x-python",
   "name": "python",
   "nbconvert_exporter": "python",
   "pygments_lexer": "ipython3",
   "version": "3.9.15"
  }
 },
 "nbformat": 4,
 "nbformat_minor": 5
}
