{
 "cells": [
  {
   "cell_type": "markdown",
   "metadata": {},
   "source": [
    "#### Import libraries  "
   ]
  },
  {
   "cell_type": "code",
   "execution_count": 1,
   "metadata": {},
   "outputs": [],
   "source": [
    "#Cell_1.\n",
    "import numpy as np\n",
    "import pandas as pd\n",
    "import matplotlib.pyplot as plt\n",
    "from sklearn.decomposition import PCA\n",
    "from sklearn.preprocessing import StandardScaler"
   ]
  },
  {
   "cell_type": "markdown",
   "metadata": {},
   "source": [
    "#### Parameters  "
   ]
  },
  {
   "cell_type": "code",
   "execution_count": 2,
   "metadata": {},
   "outputs": [],
   "source": [
    "#Cell_2.\n",
    "csv_in = 'decathlon2016rio.csv'\n",
    "\n",
    "# To show all rows and columns in the results \n",
    "pd.options.display.max_columns=999\n",
    "pd.options.display.max_rows=999"
   ]
  },
  {
   "cell_type": "markdown",
   "metadata": {},
   "source": [
    "#### Read CSV file  "
   ]
  },
  {
   "cell_type": "code",
   "execution_count": 3,
   "metadata": {},
   "outputs": [
    {
     "name": "stdout",
     "output_type": "stream",
     "text": [
      "(20, 14)\n",
      "<class 'pandas.core.frame.DataFrame'>\n",
      "RangeIndex: 20 entries, 0 to 19\n",
      "Data columns (total 14 columns):\n",
      " #   Column         Non-Null Count  Dtype \n",
      "---  ------         --------------  ----- \n",
      " 0   Rank           20 non-null     int64 \n",
      " 1   Name           20 non-null     object\n",
      " 2   Nationality    20 non-null     object\n",
      " 3   Result         20 non-null     int64 \n",
      " 4   100m           20 non-null     int64 \n",
      " 5   Long_jump      20 non-null     int64 \n",
      " 6   Shot_put       20 non-null     int64 \n",
      " 7   High_jump      20 non-null     int64 \n",
      " 8   400m           20 non-null     int64 \n",
      " 9   110mH          20 non-null     int64 \n",
      " 10  Discus_throw   20 non-null     int64 \n",
      " 11  Pole_vault     20 non-null     int64 \n",
      " 12  Javelin_throw  20 non-null     int64 \n",
      " 13  1500m          20 non-null     int64 \n",
      "dtypes: int64(12), object(2)\n",
      "memory usage: 2.3+ KB\n",
      "None\n"
     ]
    },
    {
     "data": {
      "text/html": [
       "<div>\n",
       "<style scoped>\n",
       "    .dataframe tbody tr th:only-of-type {\n",
       "        vertical-align: middle;\n",
       "    }\n",
       "\n",
       "    .dataframe tbody tr th {\n",
       "        vertical-align: top;\n",
       "    }\n",
       "\n",
       "    .dataframe thead th {\n",
       "        text-align: right;\n",
       "    }\n",
       "</style>\n",
       "<table border=\"1\" class=\"dataframe\">\n",
       "  <thead>\n",
       "    <tr style=\"text-align: right;\">\n",
       "      <th></th>\n",
       "      <th>Rank</th>\n",
       "      <th>Name</th>\n",
       "      <th>Nationality</th>\n",
       "      <th>Result</th>\n",
       "      <th>100m</th>\n",
       "      <th>Long_jump</th>\n",
       "      <th>Shot_put</th>\n",
       "      <th>High_jump</th>\n",
       "      <th>400m</th>\n",
       "      <th>110mH</th>\n",
       "      <th>Discus_throw</th>\n",
       "      <th>Pole_vault</th>\n",
       "      <th>Javelin_throw</th>\n",
       "      <th>1500m</th>\n",
       "    </tr>\n",
       "  </thead>\n",
       "  <tbody>\n",
       "    <tr>\n",
       "      <th>0</th>\n",
       "      <td>1</td>\n",
       "      <td>Ashton Eaton</td>\n",
       "      <td>United States</td>\n",
       "      <td>8893</td>\n",
       "      <td>985</td>\n",
       "      <td>1045</td>\n",
       "      <td>773</td>\n",
       "      <td>813</td>\n",
       "      <td>1005</td>\n",
       "      <td>1000</td>\n",
       "      <td>777</td>\n",
       "      <td>972</td>\n",
       "      <td>734</td>\n",
       "      <td>789</td>\n",
       "    </tr>\n",
       "    <tr>\n",
       "      <th>1</th>\n",
       "      <td>2</td>\n",
       "      <td>Kévin Mayer</td>\n",
       "      <td>France</td>\n",
       "      <td>8834</td>\n",
       "      <td>903</td>\n",
       "      <td>960</td>\n",
       "      <td>836</td>\n",
       "      <td>840</td>\n",
       "      <td>896</td>\n",
       "      <td>972</td>\n",
       "      <td>804</td>\n",
       "      <td>1035</td>\n",
       "      <td>814</td>\n",
       "      <td>774</td>\n",
       "    </tr>\n",
       "    <tr>\n",
       "      <th>2</th>\n",
       "      <td>3</td>\n",
       "      <td>Damian Warner</td>\n",
       "      <td>Canada</td>\n",
       "      <td>8666</td>\n",
       "      <td>1023</td>\n",
       "      <td>977</td>\n",
       "      <td>708</td>\n",
       "      <td>840</td>\n",
       "      <td>941</td>\n",
       "      <td>1029</td>\n",
       "      <td>765</td>\n",
       "      <td>819</td>\n",
       "      <td>786</td>\n",
       "      <td>778</td>\n",
       "    </tr>\n",
       "    <tr>\n",
       "      <th>3</th>\n",
       "      <td>4</td>\n",
       "      <td>Kai Kazmirek</td>\n",
       "      <td>Germany</td>\n",
       "      <td>8580</td>\n",
       "      <td>910</td>\n",
       "      <td>982</td>\n",
       "      <td>741</td>\n",
       "      <td>896</td>\n",
       "      <td>971</td>\n",
       "      <td>896</td>\n",
       "      <td>731</td>\n",
       "      <td>910</td>\n",
       "      <td>807</td>\n",
       "      <td>736</td>\n",
       "    </tr>\n",
       "    <tr>\n",
       "      <th>4</th>\n",
       "      <td>5</td>\n",
       "      <td>Larbi Bourrada</td>\n",
       "      <td>Algeria</td>\n",
       "      <td>8521</td>\n",
       "      <td>917</td>\n",
       "      <td>940</td>\n",
       "      <td>715</td>\n",
       "      <td>896</td>\n",
       "      <td>910</td>\n",
       "      <td>955</td>\n",
       "      <td>713</td>\n",
       "      <td>790</td>\n",
       "      <td>836</td>\n",
       "      <td>849</td>\n",
       "    </tr>\n",
       "  </tbody>\n",
       "</table>\n",
       "</div>"
      ],
      "text/plain": [
       "   Rank            Name    Nationality  Result  100m  Long_jump  Shot_put  \\\n",
       "0     1    Ashton Eaton  United States    8893   985       1045       773   \n",
       "1     2     Kévin Mayer         France    8834   903        960       836   \n",
       "2     3   Damian Warner         Canada    8666  1023        977       708   \n",
       "3     4    Kai Kazmirek        Germany    8580   910        982       741   \n",
       "4     5  Larbi Bourrada        Algeria    8521   917        940       715   \n",
       "\n",
       "   High_jump  400m  110mH  Discus_throw  Pole_vault  Javelin_throw  1500m  \n",
       "0        813  1005   1000           777         972            734    789  \n",
       "1        840   896    972           804        1035            814    774  \n",
       "2        840   941   1029           765         819            786    778  \n",
       "3        896   971    896           731         910            807    736  \n",
       "4        896   910    955           713         790            836    849  "
      ]
     },
     "metadata": {},
     "output_type": "display_data"
    }
   ],
   "source": [
    "#Cell_3.\n",
    "df = pd.read_csv(csv_in, sep=',', skiprows=8, header=0)\n",
    "print(df.shape)\n",
    "print(df.info())\n",
    "display(df.head())"
   ]
  },
  {
   "cell_type": "markdown",
   "metadata": {},
   "source": [
    "#### Set data   "
   ]
  },
  {
   "cell_type": "code",
   "execution_count": 4,
   "metadata": {},
   "outputs": [
    {
     "name": "stdout",
     "output_type": "stream",
     "text": [
      "20\n",
      "(20, 10)\n"
     ]
    },
    {
     "data": {
      "text/html": [
       "<div>\n",
       "<style scoped>\n",
       "    .dataframe tbody tr th:only-of-type {\n",
       "        vertical-align: middle;\n",
       "    }\n",
       "\n",
       "    .dataframe tbody tr th {\n",
       "        vertical-align: top;\n",
       "    }\n",
       "\n",
       "    .dataframe thead th {\n",
       "        text-align: right;\n",
       "    }\n",
       "</style>\n",
       "<table border=\"1\" class=\"dataframe\">\n",
       "  <thead>\n",
       "    <tr style=\"text-align: right;\">\n",
       "      <th></th>\n",
       "      <th>100m</th>\n",
       "      <th>Long_jump</th>\n",
       "      <th>Shot_put</th>\n",
       "      <th>High_jump</th>\n",
       "      <th>400m</th>\n",
       "      <th>110mH</th>\n",
       "      <th>Discus_throw</th>\n",
       "      <th>Pole_vault</th>\n",
       "      <th>Javelin_throw</th>\n",
       "      <th>1500m</th>\n",
       "    </tr>\n",
       "  </thead>\n",
       "  <tbody>\n",
       "    <tr>\n",
       "      <th>0</th>\n",
       "      <td>985</td>\n",
       "      <td>1045</td>\n",
       "      <td>773</td>\n",
       "      <td>813</td>\n",
       "      <td>1005</td>\n",
       "      <td>1000</td>\n",
       "      <td>777</td>\n",
       "      <td>972</td>\n",
       "      <td>734</td>\n",
       "      <td>789</td>\n",
       "    </tr>\n",
       "    <tr>\n",
       "      <th>1</th>\n",
       "      <td>903</td>\n",
       "      <td>960</td>\n",
       "      <td>836</td>\n",
       "      <td>840</td>\n",
       "      <td>896</td>\n",
       "      <td>972</td>\n",
       "      <td>804</td>\n",
       "      <td>1035</td>\n",
       "      <td>814</td>\n",
       "      <td>774</td>\n",
       "    </tr>\n",
       "    <tr>\n",
       "      <th>2</th>\n",
       "      <td>1023</td>\n",
       "      <td>977</td>\n",
       "      <td>708</td>\n",
       "      <td>840</td>\n",
       "      <td>941</td>\n",
       "      <td>1029</td>\n",
       "      <td>765</td>\n",
       "      <td>819</td>\n",
       "      <td>786</td>\n",
       "      <td>778</td>\n",
       "    </tr>\n",
       "    <tr>\n",
       "      <th>3</th>\n",
       "      <td>910</td>\n",
       "      <td>982</td>\n",
       "      <td>741</td>\n",
       "      <td>896</td>\n",
       "      <td>971</td>\n",
       "      <td>896</td>\n",
       "      <td>731</td>\n",
       "      <td>910</td>\n",
       "      <td>807</td>\n",
       "      <td>736</td>\n",
       "    </tr>\n",
       "    <tr>\n",
       "      <th>4</th>\n",
       "      <td>917</td>\n",
       "      <td>940</td>\n",
       "      <td>715</td>\n",
       "      <td>896</td>\n",
       "      <td>910</td>\n",
       "      <td>955</td>\n",
       "      <td>713</td>\n",
       "      <td>790</td>\n",
       "      <td>836</td>\n",
       "      <td>849</td>\n",
       "    </tr>\n",
       "  </tbody>\n",
       "</table>\n",
       "</div>"
      ],
      "text/plain": [
       "   100m  Long_jump  Shot_put  High_jump  400m  110mH  Discus_throw  \\\n",
       "0   985       1045       773        813  1005   1000           777   \n",
       "1   903        960       836        840   896    972           804   \n",
       "2  1023        977       708        840   941   1029           765   \n",
       "3   910        982       741        896   971    896           731   \n",
       "4   917        940       715        896   910    955           713   \n",
       "\n",
       "   Pole_vault  Javelin_throw  1500m  \n",
       "0         972            734    789  \n",
       "1        1035            814    774  \n",
       "2         819            786    778  \n",
       "3         910            807    736  \n",
       "4         790            836    849  "
      ]
     },
     "metadata": {},
     "output_type": "display_data"
    }
   ],
   "source": [
    "#Cell_4.\n",
    "dfX = df.loc[:, '100m':]\n",
    "n=dfX.shape[0] #sample size.\n",
    "p=dfX.shape[1] #number of features.\n",
    "\n",
    "print(n)\n",
    "print(dfX.shape)\n",
    "display(dfX.head())"
   ]
  },
  {
   "cell_type": "markdown",
   "metadata": {},
   "source": [
    "#### Standardization  "
   ]
  },
  {
   "cell_type": "code",
   "execution_count": 5,
   "metadata": {},
   "outputs": [
    {
     "name": "stdout",
     "output_type": "stream",
     "text": [
      "[[ 1.69596303  1.96164497  0.46009357 -0.39421812  2.30508491  1.42683219\n",
      "   0.24820772  1.02461661 -0.58729124  1.10604714]\n",
      " [ 0.32650002  0.78700726  1.48252371 -0.01339918  0.37012723  0.97463863\n",
      "   0.59634323  1.70950624  0.42966329  0.87188049]\n",
      " [ 2.33059223  1.0219348  -0.59479468 -0.01339918  1.16896297  1.89517552\n",
      "   0.09348083 -0.63868675  0.0737292   0.93432493]\n",
      " [ 0.4434054   1.09103114 -0.05923603  0.77644749  1.70152013 -0.2527439\n",
      "  -0.34491203  0.35059826  0.34067977  0.27865831]\n",
      " [ 0.56031078  0.51062192 -0.48119133  0.77644749  0.6186539   0.70009253\n",
      "  -0.57700237 -0.9539534   0.70932579  2.04271374]\n",
      " [-1.15986836 -0.77456992  0.00568017  0.38152415  0.47663866  0.02180219\n",
      "   0.67370668  0.02446034  1.84068771  0.59088051]\n",
      " [ 0.71061769  0.40006778 -0.82200138  0.77644749 -0.94351377 -0.54343976\n",
      "   1.29261425  1.02461661 -0.35847647 -0.87656382]\n",
      " [-1.26007297  0.99429627 -1.42247623  1.58039856 -0.76599472 -1.02793287\n",
      "  -0.25465468  1.70950624 -0.14237363 -0.01795278]\n",
      " [-0.12442072  0.16514024  0.50878072  0.38152415 -0.35770089 -0.59188907\n",
      "   0.14505646 -1.28009131  1.37034623  0.35671386]\n",
      " [ 0.47680694  0.37242925  0.99565221 -1.55077931  0.47663866  0.66779299\n",
      "   0.14505646  0.02446034 -1.05763272  0.2630472 ]\n",
      " [-0.42503455  0.26187511  0.65484216  1.9894263  -0.0559185  -0.15584528\n",
      "  -1.22169776  0.35059826 -2.18899463  1.24654713]\n",
      " [-0.60874301 -0.0697873   0.83336171 -0.01339918 -0.67723519  0.24789897\n",
      "  -0.11282169 -0.63868675  1.03983601 -0.03356389]\n",
      " [-1.00956145 -1.00949746  1.14171366 -0.78914145 -0.53521995 -0.65648815\n",
      "  -0.6156841   0.68760744 -0.1677975  -0.64239717]\n",
      " [ 0.14279157  0.33097145 -2.75325832  1.18547523  0.44113485  0.3932469\n",
      "  -1.49246982  0.02446034 -2.08729918  0.20060276]\n",
      " [ 0.10939003 -1.32734061  0.76844551 -0.78914145 -0.26894137  0.76469161\n",
      "   0.02901129 -1.28009131  0.25169625 -1.84445264]\n",
      " [ 0.25969695 -0.87130479  0.52500976 -0.78914145 -0.90800996 -2.4168131\n",
      "   2.32412687 -1.59535797  0.13728886 -1.04828603]\n",
      " [-1.54398604 -0.13888363 -0.57856563 -0.39421812 -1.72459761 -0.97948356\n",
      "   0.46740416  1.02461661 -0.51101965 -1.20439713]\n",
      " [ 0.32650002 -1.78337642  0.31403212 -0.39421812  0.01508912  0.49014552\n",
      "  -1.1185465  -1.28009131  0.36610363 -1.07950825]\n",
      " [ 0.22629541 -0.13888363 -0.85445948 -1.91749384  0.08609674  0.21559943\n",
      "  -1.69877235 -0.31254883 -0.19322136  0.06010277]\n",
      " [-1.47718296 -1.78337642 -0.12415223 -0.78914145 -1.42281522 -1.1732808\n",
      "   1.42155333  0.02446034  0.73474965 -1.20439713]]\n"
     ]
    }
   ],
   "source": [
    "#Cell_5.\n",
    "sc = StandardScaler()\n",
    "X_std = sc.fit_transform(dfX)*(np.sqrt(n-1))/(np.sqrt(n))\n",
    "print(X_std)"
   ]
  },
  {
   "cell_type": "markdown",
   "metadata": {},
   "source": [
    "#### PCA  "
   ]
  },
  {
   "cell_type": "code",
   "execution_count": 6,
   "metadata": {},
   "outputs": [],
   "source": [
    "#Cell_6.\n",
    "n_pca = 7\n",
    "pca = PCA(n_components=n_pca)\n",
    "X_pca = pca.fit_transform(X_std)"
   ]
  },
  {
   "cell_type": "code",
   "execution_count": 7,
   "metadata": {},
   "outputs": [
    {
     "name": "stdout",
     "output_type": "stream",
     "text": [
      "(20, 7)\n",
      "[[ 3.56942645 -0.98347552 -1.14240555 -1.30165626  0.27153522 -0.18460007\n",
      "   0.14935513]\n",
      " [ 1.21353254 -0.47869661 -2.02658496 -0.8341293  -1.11720096 -0.18539971\n",
      "  -0.46761305]\n",
      " [ 2.88761185 -1.51945157  0.2070709   0.12991062  1.30415827 -0.32808217\n",
      "  -0.47019876]\n",
      " [ 1.62013669  0.13787698 -0.65607546  0.4503648   0.1445113  -0.05999976\n",
      "   0.15644522]\n",
      " [ 1.92407792 -0.47295117  0.06356044  1.89074906  0.01318348  0.07953129\n",
      "   0.48866613]\n",
      " [-0.70677651 -0.40355427 -1.05364595  1.61240054 -0.65973459 -0.8766104\n",
      "  -0.08930945]\n",
      " [-0.48361409  1.3043003  -0.89393021 -0.67958012  1.57051353 -0.10931859\n",
      "  -0.85936901]\n",
      " [-0.05882895  3.21229159 -0.75835267  0.42962514 -0.04477964 -0.66555223\n",
      "   0.01220491]\n",
      " [-0.63616543 -0.77017099 -0.49986238  1.59227038  0.07409109  0.39292165\n",
      "   0.38312242]\n",
      " [ 0.69825402 -1.17038658  0.08834728 -1.69547767 -0.31811466  0.41132457\n",
      "   0.59528009]\n",
      " [ 1.43614383  1.97410614  0.45810612  0.12777221 -1.19135795  2.21432898\n",
      "  -0.16696289]\n",
      " [-0.79043004 -0.70186499 -0.25874459  0.7700095  -0.77296749  0.00636523\n",
      "  -0.13792919]\n",
      " [-1.55713982  0.08622446  0.22294538 -0.87517624 -1.54540904  0.16318612\n",
      "   0.20703363]\n",
      " [ 1.86144814  2.44095047  2.3245511   0.14806467  0.95807176 -0.17330518\n",
      "  -0.09391572]\n",
      " [-1.55777634 -1.75035157  1.23361596 -0.40011773 -0.0197774   0.07381745\n",
      "  -1.14205238]\n",
      " [-3.07047011 -0.93560581 -0.71258095 -0.0953269   2.00834265  1.35280413\n",
      "   0.82237394]\n",
      " [-2.19625345  1.82166408 -0.12940341 -0.99442786 -0.06628195 -0.54586303\n",
      "   0.14241055]\n",
      " [-0.95471619 -1.4001143   1.9509762   0.39146722 -0.41902997  0.06285613\n",
      "  -0.79207473]\n",
      " [ 0.32038093 -0.54239252  1.90574368 -0.60870389 -0.32465598 -1.08666261\n",
      "   1.28194263]\n",
      " [-3.51884147  0.1516019  -0.32333094 -0.05803817  0.13490233 -0.54174181\n",
      "  -0.01940947]]\n"
     ]
    }
   ],
   "source": [
    "#Cell_7.\n",
    "#主成分得点\n",
    "print(X_pca.shape)\n",
    "print(X_pca)"
   ]
  },
  {
   "cell_type": "code",
   "execution_count": 8,
   "metadata": {},
   "outputs": [
    {
     "name": "stdout",
     "output_type": "stream",
     "text": [
      "eigenvalues: [3.63995509 1.98863507 1.26055923 0.94332792 0.82708545 0.54235093\n",
      " 0.33387844]\n",
      "eigenvectors: [[ 0.36190421  0.42957977 -0.09753557  0.18199152  0.44604966  0.39447349\n",
      "  -0.24635935  0.12289796 -0.18005794  0.42316088]\n",
      " [-0.34103094  0.15852364 -0.4245053   0.45646599 -0.2422605  -0.28799849\n",
      "  -0.12786359  0.42991168 -0.35652096  0.00941149]\n",
      " [ 0.04342685 -0.33971909 -0.35037866 -0.15203715 -0.03455581  0.15722963\n",
      "  -0.61427426 -0.40891777 -0.35182583 -0.20635229]\n",
      " [-0.16150633 -0.1075701  -0.19996527  0.5186184   0.02410323 -0.08341458\n",
      "  -0.1160843  -0.4576537   0.55833695  0.33345411]\n",
      " [ 0.5007766   0.16517373 -0.53783874  0.03596115 -0.00250915 -0.20283896\n",
      "   0.50523578 -0.29153098 -0.09170105 -0.20387298]\n",
      " [ 0.14044168 -0.04999303  0.54914761  0.36705738 -0.05827133 -0.29049819\n",
      "   0.06704735 -0.37297816 -0.53603545  0.1508503 ]\n",
      " [-0.16976424  0.26194133 -0.11229865 -0.55864648  0.0767738  -0.54831336\n",
      "  -0.1255145  -0.1602866  -0.04759615  0.47709238]]\n"
     ]
    }
   ],
   "source": [
    "#Cell_8.\n",
    "#固有値\n",
    "print('eigenvalues:',pca.explained_variance_)\n",
    "#固有ベクトルの成分\n",
    "print('eigenvectors:',pca.components_)"
   ]
  },
  {
   "cell_type": "code",
   "execution_count": 9,
   "metadata": {},
   "outputs": [
    {
     "name": "stdout",
     "output_type": "stream",
     "text": [
      "[[ 0.69046497 -0.48091833  0.04875734 -0.15686314  0.45542747  0.10342755\n",
      "  -0.09809354]\n",
      " [ 0.81958092  0.22354841 -0.38141834 -0.10447753  0.15021599 -0.03681711\n",
      "   0.1513555 ]\n",
      " [-0.18608485 -0.59863301 -0.39338634 -0.1942164  -0.48913334  0.4044169\n",
      "  -0.06488865]\n",
      " [ 0.34721556  0.64370365 -0.17069915  0.50370848  0.03270459  0.2703175\n",
      "  -0.32279831]\n",
      " [ 0.85100326 -0.34163327 -0.03879741  0.02341028 -0.00228193 -0.04291361\n",
      "   0.0443616 ]\n",
      " [ 0.75260281 -0.40613252  0.17652898 -0.08101647 -0.18447034 -0.21393588\n",
      "  -0.31682761]\n",
      " [-0.47002079 -0.18031192 -0.68967414 -0.11274696  0.45948283  0.04937667\n",
      "  -0.07252506]\n",
      " [ 0.23447291  0.60625704 -0.45911091 -0.44449647 -0.26513063 -0.27467782\n",
      "  -0.09261715]\n",
      " [-0.34352653 -0.50276219 -0.39501114  0.54228515 -0.08339682 -0.39476051\n",
      "  -0.02750211]\n",
      " [ 0.80733452  0.01327199 -0.23168127  0.32386754 -0.18541073  0.11109292\n",
      "   0.27567454]]\n"
     ]
    }
   ],
   "source": [
    "#Cell_9.\n",
    "#因子負荷量\n",
    "loadings = pca.components_.T * np.sqrt(pca.explained_variance_) \n",
    "print(loadings)"
   ]
  },
  {
   "cell_type": "code",
   "execution_count": 10,
   "metadata": {},
   "outputs": [
    {
     "data": {
      "image/png": "[encoded data removed]",
      "text/plain": [
       "<Figure size 640x480 with 1 Axes>"
      ]
     },
     "metadata": {},
     "output_type": "display_data"
    }
   ],
   "source": [
    "#Cell_10.因子負荷量の可視化\n",
    "font = {'family' : 'Yu Mincho'}\n",
    "plt.rc('font', **font)\n",
    "\n",
    "plt.xlim(-1,1)\n",
    "plt.ylim(-1,1)\n",
    "for i in range(p):\n",
    "    plt.text(loadings[i,0],loadings[i,1], str(dfX.columns[i]),fontdict={'weight':'bold','size':12})\n",
    "\n",
    "plt.show()"
   ]
  },
  {
   "cell_type": "code",
   "execution_count": 11,
   "metadata": {},
   "outputs": [
    {
     "data": {
      "image/png": "[encoded data removed]",
      "text/plain": [
       "<Figure size 640x480 with 1 Axes>"
      ]
     },
     "metadata": {},
     "output_type": "display_data"
    }
   ],
   "source": [
    "#Cell_11.主成分得点の可視化\n",
    "plt.scatter(X_pca[:,0],X_pca[:,1])\n",
    "plt.show()"
   ]
  },
  {
   "cell_type": "code",
   "execution_count": 12,
   "metadata": {},
   "outputs": [
    {
     "name": "stdout",
     "output_type": "stream",
     "text": [
      "各主成分ごとの寄与率： [0.36399551 0.19886351 0.12605592 0.09433279 0.08270855 0.05423509\n",
      " 0.03338784]\n",
      "各主成分までの累積寄与率： [0.36399551 0.56285902 0.68891494 0.78324773 0.86595628 0.92019137\n",
      " 0.95357921]\n"
     ]
    }
   ],
   "source": [
    "#Cell_12.\n",
    "print(\"各主成分ごとの寄与率：\",pca.explained_variance_ratio_)\n",
    "print(\"各主成分までの累積寄与率：\",np.cumsum(pca.explained_variance_ratio_))"
   ]
  },
  {
   "cell_type": "markdown",
   "metadata": {},
   "source": [
    "**Ans.1: up to PC3 (0.689)**"
   ]
  },
  {
   "cell_type": "markdown",
   "metadata": {},
   "source": [
    "#### Draw graph of contribution  "
   ]
  },
  {
   "cell_type": "code",
   "execution_count": 13,
   "metadata": {},
   "outputs": [
    {
     "data": {
      "image/png": "[encoded data removed]",
      "text/plain": [
       "<Figure size 640x480 with 1 Axes>"
      ]
     },
     "metadata": {},
     "output_type": "display_data"
    }
   ],
   "source": [
    "#Cell_13.\n",
    "xx = range(1, n_pca+1)\n",
    "plt.bar(xx, pca.explained_variance_ratio_)\n",
    "plt.step(xx, np.cumsum(pca.explained_variance_ratio_), where='mid')\n",
    "plt.ylabel('Explained variance ratio')\n",
    "plt.xlabel('Principal components')\n",
    "plt.show()"
   ]
  },
  {
   "cell_type": "code",
   "execution_count": 14,
   "metadata": {},
   "outputs": [
    {
     "data": {
      "image/png": "[encoded data removed]",
      "text/plain": [
       "<Figure size 640x480 with 1 Axes>"
      ]
     },
     "metadata": {},
     "output_type": "display_data"
    }
   ],
   "source": [
    "#Cell_14.\n",
    "def biplot(X_2d, coef_2d, coef_labels=None):\n",
    "    r1 = 2\n",
    "    r2 = 1\n",
    "    coef_2dT = coef_2d.T\n",
    "    if coef_labels is None:\n",
    "        coef_labels = range(len(coef_2dT))\n",
    "    for i, coef in enumerate(coef_2dT):\n",
    "        plt.arrow(0, 0, coef[0]*r1, coef[1]*r1, color='r')    \n",
    "        plt.text(coef[0]*r1*r2, coef[1]*r1*r2, coef_labels[i],\n",
    "                 color='b', fontsize=11)\n",
    "        plt.xlim(-3,3)\n",
    "    plt.ylim(-3,3)\n",
    "    plt.scatter(X_2d[:,0], X_2d[:,1])\n",
    "    plt.xlabel('PC_1')\n",
    "    plt.ylabel('PC_2')\n",
    "    return None\n",
    "\n",
    "biplot(X_pca[:, :2], loadings.T, coef_labels=dfX.columns)"
   ]
  }
 ],
 "metadata": {
  "kernelspec": {
   "display_name": "ds2025",
   "language": "python",
   "name": "python3"
  },
  "language_info": {
   "codemirror_mode": {
    "name": "ipython",
    "version": 3
   },
   "file_extension": ".py",
   "mimetype": "text/x-python",
   "name": "python",
   "nbconvert_exporter": "python",
   "pygments_lexer": "ipython3",
   "version": "3.9.15"
  }
 },
 "nbformat": 4,
 "nbformat_minor": 4
}
