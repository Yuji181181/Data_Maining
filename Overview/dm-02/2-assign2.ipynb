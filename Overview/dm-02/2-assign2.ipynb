{
 "cells": [
  {
   "cell_type": "code",
   "execution_count": 20,
   "id": "8d895587",
   "metadata": {},
   "outputs": [],
   "source": [
    "import pandas as pd\n",
    "import numpy as np\n",
    "import matplotlib.pyplot as plt\n",
    "import seaborn as sns\n",
    "from sklearn.linear_model import LinearRegression\n",
    "from sklearn.metrics import r2_score\n",
    "import scipy.stats as stats\n",
    "from statsmodels.stats.outliers_influence import variance_inflation_factor\n",
    "import warnings\n",
    "warnings.filterwarnings('ignore')\n",
    "import statsmodels.api as sm"
   ]
  },
  {
   "cell_type": "code",
   "execution_count": 21,
   "id": "f061d020",
   "metadata": {},
   "outputs": [
    {
     "name": "stdout",
     "output_type": "stream",
     "text": [
      "(15, 3)\n",
      "<class 'pandas.core.frame.DataFrame'>\n",
      "RangeIndex: 15 entries, 0 to 14\n",
      "Data columns (total 3 columns):\n",
      " #   Column  Non-Null Count  Dtype\n",
      "---  ------  --------------  -----\n",
      " 0   TIME    15 non-null     int64\n",
      " 1   PUBS    15 non-null     int64\n",
      " 2   SALARY  15 non-null     int64\n",
      "dtypes: int64(3)\n",
      "memory usage: 488.0 bytes\n",
      "None\n"
     ]
    },
    {
     "data": {
      "text/html": [
       "<div>\n",
       "<style scoped>\n",
       "    .dataframe tbody tr th:only-of-type {\n",
       "        vertical-align: middle;\n",
       "    }\n",
       "\n",
       "    .dataframe tbody tr th {\n",
       "        vertical-align: top;\n",
       "    }\n",
       "\n",
       "    .dataframe thead th {\n",
       "        text-align: right;\n",
       "    }\n",
       "</style>\n",
       "<table border=\"1\" class=\"dataframe\">\n",
       "  <thead>\n",
       "    <tr style=\"text-align: right;\">\n",
       "      <th></th>\n",
       "      <th>TIME</th>\n",
       "      <th>PUBS</th>\n",
       "      <th>SALARY</th>\n",
       "    </tr>\n",
       "  </thead>\n",
       "  <tbody>\n",
       "    <tr>\n",
       "      <th>0</th>\n",
       "      <td>3</td>\n",
       "      <td>18</td>\n",
       "      <td>51876</td>\n",
       "    </tr>\n",
       "    <tr>\n",
       "      <th>1</th>\n",
       "      <td>6</td>\n",
       "      <td>3</td>\n",
       "      <td>54511</td>\n",
       "    </tr>\n",
       "    <tr>\n",
       "      <th>2</th>\n",
       "      <td>3</td>\n",
       "      <td>2</td>\n",
       "      <td>53425</td>\n",
       "    </tr>\n",
       "    <tr>\n",
       "      <th>3</th>\n",
       "      <td>8</td>\n",
       "      <td>17</td>\n",
       "      <td>61863</td>\n",
       "    </tr>\n",
       "    <tr>\n",
       "      <th>4</th>\n",
       "      <td>9</td>\n",
       "      <td>11</td>\n",
       "      <td>52926</td>\n",
       "    </tr>\n",
       "  </tbody>\n",
       "</table>\n",
       "</div>"
      ],
      "text/plain": [
       "   TIME  PUBS  SALARY\n",
       "0     3    18   51876\n",
       "1     6     3   54511\n",
       "2     3     2   53425\n",
       "3     8    17   61863\n",
       "4     9    11   52926"
      ]
     },
     "metadata": {},
     "output_type": "display_data"
    }
   ],
   "source": [
    "df = pd.read_csv('salary_1.csv')\n",
    "print(df.shape)\n",
    "print(df.info())\n",
    "display(df.head())"
   ]
  },
  {
   "cell_type": "code",
   "execution_count": 22,
   "id": "3222a019",
   "metadata": {},
   "outputs": [
    {
     "name": "stdout",
     "output_type": "stream",
     "text": [
      "            TIME      PUBS    SALARY\n",
      "TIME    1.000000  0.656655  0.710351\n",
      "PUBS    0.656655  1.000000  0.587834\n",
      "SALARY  0.710351  0.587834  1.000000\n"
     ]
    },
    {
     "data": {
      "text/plain": [
       "<Axes: >"
      ]
     },
     "execution_count": 22,
     "metadata": {},
     "output_type": "execute_result"
    },
    {
     "data": {
      "image/png": "[encoded data removed]",
      "text/plain": [
       "<Figure size 640x480 with 2 Axes>"
      ]
     },
     "metadata": {},
     "output_type": "display_data"
    }
   ],
   "source": [
    "# 変数間の相関関係を確認\n",
    "correlation_matrix = df.corr()\n",
    "print(correlation_matrix)\n",
    "\n",
    "sns.heatmap(correlation_matrix, annot=True, cmap='coolwarm', center=0)"
   ]
  },
  {
   "cell_type": "code",
   "execution_count": 23,
   "id": "6f94b42a",
   "metadata": {},
   "outputs": [
    {
     "name": "stdout",
     "output_type": "stream",
     "text": [
      "切片: 43082.3940\n",
      "TIME係数: 982.8668\n",
      "PUBS係数: 121.8007\n",
      "\n",
      "決定係数 R²: 0.5305\n"
     ]
    }
   ],
   "source": [
    "X = df[['TIME', 'PUBS']]\n",
    "y = df['SALARY'] \n",
    "\n",
    "model = LinearRegression()\n",
    "model.fit(X, y)\n",
    "\n",
    "# モデルの係数と切片\n",
    "print(f\"切片: {model.intercept_:.4f}\")\n",
    "print(f\"TIME係数: {model.coef_[0]:.4f}\")\n",
    "print(f\"PUBS係数: {model.coef_[1]:.4f}\")\n",
    "\n",
    "y_pred = model.predict(X)\n",
    "r2 = r2_score(y, y_pred)\n",
    "print(f\"\\n決定係数 R²: {r2:.4f}\")"
   ]
  },
  {
   "cell_type": "code",
   "execution_count": 24,
   "id": "05f82054",
   "metadata": {},
   "outputs": [
    {
     "name": "stdout",
     "output_type": "stream",
     "text": [
      "          TIME      PUBS\n",
      "TIME  1.000000  0.656655\n",
      "PUBS  0.656655  1.000000\n",
      "  Variables       VIF\n",
      "0  Constant  4.226311\n",
      "1      TIME  1.758073\n",
      "2      PUBS  1.758073\n",
      "\n",
      "TIMEとPUBSの相関係数: 0.6567\n"
     ]
    }
   ],
   "source": [
    "correlation_explanatory = X.corr()\n",
    "print(correlation_explanatory)\n",
    "\n",
    "X_with_constant = np.column_stack([np.ones(len(X)), X])\n",
    "vif = pd.DataFrame()\n",
    "vif[\"Variables\"] = [\"Constant\", \"TIME\", \"PUBS\"]\n",
    "vif[\"VIF\"] = [variance_inflation_factor(X_with_constant, i) for i in range(X_with_constant.shape[1])]\n",
    "\n",
    "print(vif)\n",
    "\n",
    "time_pubs_correlation = correlation_explanatory.loc['TIME', 'PUBS']\n",
    "print(f\"\\nTIMEとPUBSの相関係数: {time_pubs_correlation:.4f}\")"
   ]
  },
  {
   "cell_type": "code",
   "execution_count": 25,
   "id": "13e2d680",
   "metadata": {},
   "outputs": [
    {
     "name": "stdout",
     "output_type": "stream",
     "text": [
      "TIME: 3\n",
      "PUBS: 18\n",
      "\n",
      "予測されるSALARY: 48223.4069\n",
      "X_with_const shape: (15, 3)\n",
      "X_with_const columns: ['const', 'TIME', 'PUBS']\n",
      "Manual first_scholar_with_const shape: (1, 3)\n",
      "Manual first_scholar_with_const columns: ['const', 'TIME', 'PUBS']\n",
      "一人目の学者のSALARY推定値: 48223.41\n",
      "95%信頼区間: [42884.01, 53562.80]\n",
      "                            OLS Regression Results                            \n",
      "==============================================================================\n",
      "Dep. Variable:                 SALARY   R-squared:                       0.530\n",
      "Model:                            OLS   Adj. R-squared:                  0.452\n",
      "Method:                 Least Squares   F-statistic:                     6.780\n",
      "Date:                Sun, 28 Sep 2025   Prob (F-statistic):             0.0107\n",
      "Time:                        02:52:26   Log-Likelihood:                -149.70\n",
      "No. Observations:                  15   AIC:                             305.4\n",
      "Df Residuals:                      12   BIC:                             307.5\n",
      "Df Model:                           2                                         \n",
      "Covariance Type:            nonrobust                                         \n",
      "==============================================================================\n",
      "                 coef    std err          t      P>|t|      [0.025      0.975]\n",
      "------------------------------------------------------------------------------\n",
      "const       4.308e+04   3099.493     13.900      0.000    3.63e+04    4.98e+04\n",
      "TIME         982.8668    452.057      2.174      0.050      -2.081    1967.815\n",
      "PUBS         121.8007    149.699      0.814      0.432    -204.364     447.966\n",
      "==============================================================================\n",
      "Omnibus:                        0.781   Durbin-Watson:                   1.207\n",
      "Prob(Omnibus):                  0.677   Jarque-Bera (JB):                0.307\n",
      "Skew:                          -0.345   Prob(JB):                        0.858\n",
      "Kurtosis:                       2.874   Cond. No.                         52.2\n",
      "==============================================================================\n",
      "\n",
      "Notes:\n",
      "[1] Standard Errors assume that the covariance matrix of the errors is correctly specified.\n"
     ]
    }
   ],
   "source": [
    "first_scholar = X.iloc[0:1]\n",
    "print(f\"TIME: {first_scholar['TIME'].values[0]}\")\n",
    "print(f\"PUBS: {first_scholar['PUBS'].values[0]}\")\n",
    "\n",
    "predicted_salary = model.predict(first_scholar)[0]\n",
    "print(f\"\\n予測されるSALARY: {predicted_salary:.4f}\")\n",
    "\n",
    "# 定数項を追加\n",
    "X_with_const = sm.add_constant(X)\n",
    "print(\"X_with_const shape:\", X_with_const.shape)\n",
    "print(\"X_with_const columns:\", X_with_const.columns.tolist())\n",
    "\n",
    "first_scholar_data = first_scholar.copy()\n",
    "first_scholar_with_const = pd.DataFrame({\n",
    "    'const': [1.0],\n",
    "    'TIME': [first_scholar['TIME'].iloc[0]],\n",
    "    'PUBS': [first_scholar['PUBS'].iloc[0]]\n",
    "})\n",
    "print(\"Manual first_scholar_with_const shape:\", first_scholar_with_const.shape)\n",
    "print(\"Manual first_scholar_with_const columns:\", first_scholar_with_const.columns.tolist())\n",
    "\n",
    "sm_model = sm.OLS(y, X_with_const).fit()\n",
    "\n",
    "prediction_result = sm_model.predict(first_scholar_with_const)\n",
    "prediction_interval = sm_model.get_prediction(first_scholar_with_const).conf_int(alpha=0.05)\n",
    "\n",
    "print(f\"一人目の学者のSALARY推定値: {prediction_result[0]:.2f}\")\n",
    "print(f\"95%信頼区間: [{prediction_interval[0][0]:.2f}, {prediction_interval[0][1]:.2f}]\")\n",
    "\n",
    "print(sm_model.summary())"
   ]
  },
  {
   "cell_type": "code",
   "execution_count": 26,
   "id": "4a3ee7de",
   "metadata": {},
   "outputs": [
    {
     "name": "stdout",
     "output_type": "stream",
     "text": [
      "計算結果: 48223.41\n",
      "計算結果: [42884.01, 53562.80]\n",
      "\n",
      "最も近い推定値: 選択肢(iii) 48109.62\n",
      "差: 113.79\n",
      "\n",
      "最も近い95%信頼区間: 選択肢(iv) [42658.37, 52005.17]\n",
      "差の合計: 1783.27\n"
     ]
    }
   ],
   "source": [
    "print(f\"計算結果: {prediction_result[0]:.2f}\")\n",
    "\n",
    "print(f\"計算結果: [{prediction_interval[0][0]:.2f}, {prediction_interval[0][1]:.2f}]\")\n",
    "\n",
    "predicted_value = prediction_result[0]\n",
    "conf_lower = prediction_interval[0][0]\n",
    "conf_upper = prediction_interval[0][1]\n",
    "\n",
    "estimate_options = [52240.04, 47331.77, 48109.62, 50091.25]\n",
    "estimate_diffs = [abs(predicted_value - opt) for opt in estimate_options]\n",
    "closest_estimate_idx = estimate_diffs.index(min(estimate_diffs))\n",
    "\n",
    "print(f\"\\n最も近い推定値: 選択肢({['i', 'ii', 'iii', 'iv'][closest_estimate_idx]}) {estimate_options[closest_estimate_idx]}\")\n",
    "print(f\"差: {estimate_diffs[closest_estimate_idx]:.2f}\")\n",
    "\n",
    "ci_options = [\n",
    "    [46019.00, 52192.12],\n",
    "    [44532.65, 51992.65],\n",
    "    [45002.14, 51834.24],\n",
    "    [42658.37, 52005.17]\n",
    "]\n",
    "\n",
    "ci_diffs = []\n",
    "for ci in ci_options:\n",
    "    diff = abs(conf_lower - ci[0]) + abs(conf_upper - ci[1])\n",
    "    ci_diffs.append(diff)\n",
    "\n",
    "closest_ci_idx = ci_diffs.index(min(ci_diffs))\n",
    "print(f\"\\n最も近い95%信頼区間: 選択肢({['i', 'ii', 'iii', 'iv'][closest_ci_idx]}) {ci_options[closest_ci_idx]}\")\n",
    "print(f\"差の合計: {ci_diffs[closest_ci_idx]:.2f}\")"
   ]
  }
 ],
 "metadata": {
  "kernelspec": {
   "display_name": "ds2024",
   "language": "python",
   "name": "python3"
  },
  "language_info": {
   "codemirror_mode": {
    "name": "ipython",
    "version": 3
   },
   "file_extension": ".py",
   "mimetype": "text/x-python",
   "name": "python",
   "nbconvert_exporter": "python",
   "pygments_lexer": "ipython3",
   "version": "3.9.15"
  }
 },
 "nbformat": 4,
 "nbformat_minor": 5
}
