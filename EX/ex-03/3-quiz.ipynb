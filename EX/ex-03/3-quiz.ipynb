{
 "cells": [
  {
   "cell_type": "code",
   "execution_count": 1,
   "id": "7c5c6c75",
   "metadata": {},
   "outputs": [],
   "source": [
    "import numpy as np\n",
    "import pandas as pd \n",
    "from scipy import linalg\n",
    "import math"
   ]
  },
  {
   "cell_type": "code",
   "execution_count": 2,
   "id": "7aee0443",
   "metadata": {},
   "outputs": [
    {
     "data": {
      "text/html": [
       "<div>\n",
       "<style scoped>\n",
       "    .dataframe tbody tr th:only-of-type {\n",
       "        vertical-align: middle;\n",
       "    }\n",
       "\n",
       "    .dataframe tbody tr th {\n",
       "        vertical-align: top;\n",
       "    }\n",
       "\n",
       "    .dataframe thead th {\n",
       "        text-align: right;\n",
       "    }\n",
       "</style>\n",
       "<table border=\"1\" class=\"dataframe\">\n",
       "  <thead>\n",
       "    <tr style=\"text-align: right;\">\n",
       "      <th></th>\n",
       "      <th>Temperature</th>\n",
       "      <th>IceCream</th>\n",
       "      <th>Accidents</th>\n",
       "    </tr>\n",
       "  </thead>\n",
       "  <tbody>\n",
       "    <tr>\n",
       "      <th>Temperature</th>\n",
       "      <td>1.000000</td>\n",
       "      <td>0.982526</td>\n",
       "      <td>0.824944</td>\n",
       "    </tr>\n",
       "    <tr>\n",
       "      <th>IceCream</th>\n",
       "      <td>0.982526</td>\n",
       "      <td>1.000000</td>\n",
       "      <td>0.848078</td>\n",
       "    </tr>\n",
       "    <tr>\n",
       "      <th>Accidents</th>\n",
       "      <td>0.824944</td>\n",
       "      <td>0.848078</td>\n",
       "      <td>1.000000</td>\n",
       "    </tr>\n",
       "  </tbody>\n",
       "</table>\n",
       "</div>"
      ],
      "text/plain": [
       "             Temperature  IceCream  Accidents\n",
       "Temperature     1.000000  0.982526   0.824944\n",
       "IceCream        0.982526  1.000000   0.848078\n",
       "Accidents       0.824944  0.848078   1.000000"
      ]
     },
     "execution_count": 2,
     "metadata": {},
     "output_type": "execute_result"
    }
   ],
   "source": [
    "df = pd.read_csv('data.csv',sep=\",\",header=0)\n",
    "df.corr()"
   ]
  },
  {
   "cell_type": "code",
   "execution_count": 3,
   "id": "582c6fb5",
   "metadata": {},
   "outputs": [
    {
     "name": "stdout",
     "output_type": "stream",
     "text": [
      "0.8480779347370834\n",
      "0.3569303413072025\n"
     ]
    }
   ],
   "source": [
    "y = df['IceCream']\n",
    "x = df['Accidents']\n",
    "z = df['Temperature']\n",
    "y = np.array(y)\n",
    "x = np.array(x)\n",
    "z = np.array(z)\n",
    "\n",
    "def partial_corr(z,x,y):\n",
    "    correlation_matrix = np.corrcoef((z,x,y))\n",
    "    r_zx = correlation_matrix[0,1]\n",
    "    r_zy = correlation_matrix[0,2]\n",
    "    r_xy = correlation_matrix[1,2]\n",
    "    r_xy_z = (r_xy-r_zx*r_zy)/(math.sqrt(1-r_zx**2)*math.sqrt(1-r_zy**2))\n",
    "    return r_xy_z\n",
    "\n",
    "print(format(np.corrcoef(x,y)[0,1]))\n",
    "print(format(partial_corr(z,x,y) ))"
   ]
  },
  {
   "cell_type": "code",
   "execution_count": 4,
   "id": "962611d7",
   "metadata": {},
   "outputs": [
    {
     "data": {
      "text/html": [
       "<div>\n",
       "<style scoped>\n",
       "    .dataframe tbody tr th:only-of-type {\n",
       "        vertical-align: middle;\n",
       "    }\n",
       "\n",
       "    .dataframe tbody tr th {\n",
       "        vertical-align: top;\n",
       "    }\n",
       "\n",
       "    .dataframe thead th {\n",
       "        text-align: right;\n",
       "    }\n",
       "</style>\n",
       "<table border=\"1\" class=\"dataframe\">\n",
       "  <thead>\n",
       "    <tr style=\"text-align: right;\">\n",
       "      <th></th>\n",
       "      <th>Temperature</th>\n",
       "      <th>IceCream</th>\n",
       "      <th>Accidents</th>\n",
       "    </tr>\n",
       "  </thead>\n",
       "  <tbody>\n",
       "    <tr>\n",
       "      <th>Temperature</th>\n",
       "      <td>1.000000</td>\n",
       "      <td>0.944634</td>\n",
       "      <td>-0.084314</td>\n",
       "    </tr>\n",
       "    <tr>\n",
       "      <th>IceCream</th>\n",
       "      <td>0.944634</td>\n",
       "      <td>1.000000</td>\n",
       "      <td>0.356930</td>\n",
       "    </tr>\n",
       "    <tr>\n",
       "      <th>Accidents</th>\n",
       "      <td>-0.084314</td>\n",
       "      <td>0.356930</td>\n",
       "      <td>1.000000</td>\n",
       "    </tr>\n",
       "  </tbody>\n",
       "</table>\n",
       "</div>"
      ],
      "text/plain": [
       "             Temperature  IceCream  Accidents\n",
       "Temperature     1.000000  0.944634  -0.084314\n",
       "IceCream        0.944634  1.000000   0.356930\n",
       "Accidents      -0.084314  0.356930   1.000000"
      ]
     },
     "metadata": {},
     "output_type": "display_data"
    }
   ],
   "source": [
    "def cor2pcor(R):\n",
    "    inv_cor = linalg.inv(R)\n",
    "    rows = inv_cor.shape[0]\n",
    "    regu_1 = 1 / np.sqrt(np.diag(inv_cor))\n",
    "    regu_2 = np.repeat(regu_1, rows).reshape(rows, rows)\n",
    "    pcor = (-inv_cor) * regu_1 * regu_2\n",
    "    np.fill_diagonal(pcor, 1)\n",
    "    return pcor\n",
    "\n",
    "pcor = pd.DataFrame(cor2pcor(df.corr()), columns=df.corr().columns, index=df.corr().index)\n",
    "display(pcor)"
   ]
  }
 ],
 "metadata": {
  "kernelspec": {
   "display_name": "ds2025",
   "language": "python",
   "name": "python3"
  },
  "language_info": {
   "codemirror_mode": {
    "name": "ipython",
    "version": 3
   },
   "file_extension": ".py",
   "mimetype": "text/x-python",
   "name": "python",
   "nbconvert_exporter": "python",
   "pygments_lexer": "ipython3",
   "version": "3.9.15"
  }
 },
 "nbformat": 4,
 "nbformat_minor": 5
}
