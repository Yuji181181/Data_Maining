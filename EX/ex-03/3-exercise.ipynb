{
 "cells": [
  {
   "cell_type": "code",
   "execution_count": 39,
   "id": "4526d494",
   "metadata": {},
   "outputs": [],
   "source": [
    "import numpy as np\n",
    "import pandas as pd\n",
    "import matplotlib.pyplot as plt\n",
    "import seaborn as sns\n",
    "import scipy.stats as ss\n",
    "import statsmodels.api as sm\n",
    "import statsmodels.formula.api as smf\n",
    "from statsmodels.stats.outliers_influence import variance_inflation_factor\n",
    "from sklearn.preprocessing import scale\n",
    "from sklearn.metrics import mean_squared_error\n",
    "import re"
   ]
  },
  {
   "cell_type": "code",
   "execution_count": 40,
   "id": "0986d23a",
   "metadata": {},
   "outputs": [
    {
     "name": "stdout",
     "output_type": "stream",
     "text": [
      "(25, 9)\n",
      "<class 'pandas.core.frame.DataFrame'>\n",
      "RangeIndex: 25 entries, 0 to 24\n",
      "Data columns (total 9 columns):\n",
      " #   Column     Non-Null Count  Dtype \n",
      "---  ------     --------------  ----- \n",
      " 0   No         25 non-null     int64 \n",
      " 1   minutes    25 non-null     int64 \n",
      " 2   Price      25 non-null     int64 \n",
      " 3   Area       25 non-null     int64 \n",
      " 4   Year       25 non-null     int64 \n",
      " 5   Structure  25 non-null     object\n",
      " 6   BCR        25 non-null     int64 \n",
      " 7   FAR        25 non-null     int64 \n",
      " 8   Reformed   25 non-null     int64 \n",
      "dtypes: int64(8), object(1)\n",
      "memory usage: 1.9+ KB\n",
      "None\n"
     ]
    },
    {
     "data": {
      "text/html": [
       "<div>\n",
       "<style scoped>\n",
       "    .dataframe tbody tr th:only-of-type {\n",
       "        vertical-align: middle;\n",
       "    }\n",
       "\n",
       "    .dataframe tbody tr th {\n",
       "        vertical-align: top;\n",
       "    }\n",
       "\n",
       "    .dataframe thead th {\n",
       "        text-align: right;\n",
       "    }\n",
       "</style>\n",
       "<table border=\"1\" class=\"dataframe\">\n",
       "  <thead>\n",
       "    <tr style=\"text-align: right;\">\n",
       "      <th></th>\n",
       "      <th>No</th>\n",
       "      <th>minutes</th>\n",
       "      <th>Price</th>\n",
       "      <th>Area</th>\n",
       "      <th>Year</th>\n",
       "      <th>Structure</th>\n",
       "      <th>BCR</th>\n",
       "      <th>FAR</th>\n",
       "      <th>Reformed</th>\n",
       "    </tr>\n",
       "  </thead>\n",
       "  <tbody>\n",
       "    <tr>\n",
       "      <th>0</th>\n",
       "      <td>1</td>\n",
       "      <td>3</td>\n",
       "      <td>190000000</td>\n",
       "      <td>70</td>\n",
       "      <td>1</td>\n",
       "      <td>ＲＣ</td>\n",
       "      <td>80</td>\n",
       "      <td>500</td>\n",
       "      <td>0</td>\n",
       "    </tr>\n",
       "    <tr>\n",
       "      <th>1</th>\n",
       "      <td>2</td>\n",
       "      <td>5</td>\n",
       "      <td>350000000</td>\n",
       "      <td>200</td>\n",
       "      <td>39</td>\n",
       "      <td>ＳＲＣ</td>\n",
       "      <td>60</td>\n",
       "      <td>400</td>\n",
       "      <td>0</td>\n",
       "    </tr>\n",
       "    <tr>\n",
       "      <th>2</th>\n",
       "      <td>4</td>\n",
       "      <td>4</td>\n",
       "      <td>38000000</td>\n",
       "      <td>30</td>\n",
       "      <td>16</td>\n",
       "      <td>ＲＣ</td>\n",
       "      <td>80</td>\n",
       "      <td>700</td>\n",
       "      <td>0</td>\n",
       "    </tr>\n",
       "    <tr>\n",
       "      <th>3</th>\n",
       "      <td>5</td>\n",
       "      <td>2</td>\n",
       "      <td>30000000</td>\n",
       "      <td>20</td>\n",
       "      <td>17</td>\n",
       "      <td>ＳＲＣ</td>\n",
       "      <td>80</td>\n",
       "      <td>700</td>\n",
       "      <td>0</td>\n",
       "    </tr>\n",
       "    <tr>\n",
       "      <th>4</th>\n",
       "      <td>6</td>\n",
       "      <td>4</td>\n",
       "      <td>29000000</td>\n",
       "      <td>25</td>\n",
       "      <td>14</td>\n",
       "      <td>ＲＣ</td>\n",
       "      <td>80</td>\n",
       "      <td>600</td>\n",
       "      <td>0</td>\n",
       "    </tr>\n",
       "  </tbody>\n",
       "</table>\n",
       "</div>"
      ],
      "text/plain": [
       "   No  minutes      Price  Area  Year Structure  BCR  FAR  Reformed\n",
       "0   1        3  190000000    70     1        ＲＣ   80  500         0\n",
       "1   2        5  350000000   200    39       ＳＲＣ   60  400         0\n",
       "2   4        4   38000000    30    16        ＲＣ   80  700         0\n",
       "3   5        2   30000000    20    17       ＳＲＣ   80  700         0\n",
       "4   6        4   29000000    25    14        ＲＣ   80  600         0"
      ]
     },
     "metadata": {},
     "output_type": "display_data"
    }
   ],
   "source": [
    "df = pd.read_csv('condo.csv', sep=',', header=0,encoding='shift-jis')\n",
    "print(df.shape)\n",
    "print(df.info())\n",
    "display(df.head())"
   ]
  },
  {
   "cell_type": "code",
   "execution_count": 41,
   "id": "b228c764",
   "metadata": {},
   "outputs": [
    {
     "name": "stdout",
     "output_type": "stream",
     "text": [
      "X: (25, 7)\n",
      "y: (25,)\n",
      "Structure\n",
      "ＲＣ     16\n",
      "ＳＲＣ     9\n",
      "Name: count, dtype: int64\n"
     ]
    }
   ],
   "source": [
    "X = df.drop(columns=['No','Price'])\n",
    "y = df['Price']\n",
    "print('X:', X.shape)\n",
    "print('y:', y.shape)\n",
    "print(X['Structure'].value_counts())"
   ]
  },
  {
   "cell_type": "code",
   "execution_count": 42,
   "id": "94b2827a",
   "metadata": {},
   "outputs": [
    {
     "name": "stdout",
     "output_type": "stream",
     "text": [
      "X_dumm: (25, 7)\n"
     ]
    },
    {
     "data": {
      "text/html": [
       "<div>\n",
       "<style scoped>\n",
       "    .dataframe tbody tr th:only-of-type {\n",
       "        vertical-align: middle;\n",
       "    }\n",
       "\n",
       "    .dataframe tbody tr th {\n",
       "        vertical-align: top;\n",
       "    }\n",
       "\n",
       "    .dataframe thead th {\n",
       "        text-align: right;\n",
       "    }\n",
       "</style>\n",
       "<table border=\"1\" class=\"dataframe\">\n",
       "  <thead>\n",
       "    <tr style=\"text-align: right;\">\n",
       "      <th></th>\n",
       "      <th>minutes</th>\n",
       "      <th>Area</th>\n",
       "      <th>Year</th>\n",
       "      <th>BCR</th>\n",
       "      <th>FAR</th>\n",
       "      <th>Reformed</th>\n",
       "      <th>Structure_ＳＲＣ</th>\n",
       "    </tr>\n",
       "  </thead>\n",
       "  <tbody>\n",
       "    <tr>\n",
       "      <th>0</th>\n",
       "      <td>3</td>\n",
       "      <td>70</td>\n",
       "      <td>1</td>\n",
       "      <td>80</td>\n",
       "      <td>500</td>\n",
       "      <td>0</td>\n",
       "      <td>0</td>\n",
       "    </tr>\n",
       "    <tr>\n",
       "      <th>1</th>\n",
       "      <td>5</td>\n",
       "      <td>200</td>\n",
       "      <td>39</td>\n",
       "      <td>60</td>\n",
       "      <td>400</td>\n",
       "      <td>0</td>\n",
       "      <td>1</td>\n",
       "    </tr>\n",
       "    <tr>\n",
       "      <th>2</th>\n",
       "      <td>4</td>\n",
       "      <td>30</td>\n",
       "      <td>16</td>\n",
       "      <td>80</td>\n",
       "      <td>700</td>\n",
       "      <td>0</td>\n",
       "      <td>0</td>\n",
       "    </tr>\n",
       "    <tr>\n",
       "      <th>3</th>\n",
       "      <td>2</td>\n",
       "      <td>20</td>\n",
       "      <td>17</td>\n",
       "      <td>80</td>\n",
       "      <td>700</td>\n",
       "      <td>0</td>\n",
       "      <td>1</td>\n",
       "    </tr>\n",
       "    <tr>\n",
       "      <th>4</th>\n",
       "      <td>4</td>\n",
       "      <td>25</td>\n",
       "      <td>14</td>\n",
       "      <td>80</td>\n",
       "      <td>600</td>\n",
       "      <td>0</td>\n",
       "      <td>0</td>\n",
       "    </tr>\n",
       "  </tbody>\n",
       "</table>\n",
       "</div>"
      ],
      "text/plain": [
       "   minutes  Area  Year  BCR  FAR  Reformed  Structure_ＳＲＣ\n",
       "0        3    70     1   80  500         0              0\n",
       "1        5   200    39   60  400         0              1\n",
       "2        4    30    16   80  700         0              0\n",
       "3        2    20    17   80  700         0              1\n",
       "4        4    25    14   80  600         0              0"
      ]
     },
     "metadata": {},
     "output_type": "display_data"
    }
   ],
   "source": [
    "X_dumm = pd.get_dummies(X, drop_first=True, dtype='uint8')\n",
    "print('X_dumm:', X_dumm.shape)\n",
    "display(X_dumm.head())"
   ]
  },
  {
   "cell_type": "code",
   "execution_count": 43,
   "id": "b3593490",
   "metadata": {},
   "outputs": [
    {
     "name": "stdout",
     "output_type": "stream",
     "text": [
      "                            OLS Regression Results                            \n",
      "==============================================================================\n",
      "Dep. Variable:                  Price   R-squared:                       0.950\n",
      "Model:                            OLS   Adj. R-squared:                  0.930\n",
      "Method:                 Least Squares   F-statistic:                     46.51\n",
      "Date:                Mon, 06 Oct 2025   Prob (F-statistic):           7.36e-10\n",
      "Time:                        17:03:33   Log-Likelihood:                -450.39\n",
      "No. Observations:                  25   AIC:                             916.8\n",
      "Df Residuals:                      17   BIC:                             926.5\n",
      "Df Model:                           7                                         \n",
      "Covariance Type:            nonrobust                                         \n",
      "=================================================================================\n",
      "                    coef    std err          t      P>|t|      [0.025      0.975]\n",
      "---------------------------------------------------------------------------------\n",
      "const          7.574e+07   9.08e+07      0.834      0.416   -1.16e+08    2.67e+08\n",
      "minutes       -2.274e+06   2.46e+06     -0.923      0.369   -7.47e+06    2.92e+06\n",
      "Area           1.776e+06   1.55e+05     11.471      0.000    1.45e+06     2.1e+06\n",
      "Year          -9.505e+05   4.69e+05     -2.026      0.059   -1.94e+06    3.92e+04\n",
      "BCR           -2.995e+05   1.12e+06     -0.268      0.792   -2.66e+06    2.06e+06\n",
      "FAR           -6.894e+04   4.76e+04     -1.449      0.166   -1.69e+05    3.15e+04\n",
      "Reformed       7.205e+06   1.59e+07      0.453      0.656   -2.64e+07    4.08e+07\n",
      "Structure_ＳＲＣ  4.966e+05   9.95e+06      0.050      0.961   -2.05e+07    2.15e+07\n",
      "==============================================================================\n",
      "Omnibus:                       16.600   Durbin-Watson:                   0.956\n",
      "Prob(Omnibus):                  0.000   Jarque-Bera (JB):               21.712\n",
      "Skew:                           1.377   Prob(JB):                     1.93e-05\n",
      "Kurtosis:                       6.642   Cond. No.                     1.38e+04\n",
      "==============================================================================\n",
      "\n",
      "Notes:\n",
      "[1] Standard Errors assume that the covariance matrix of the errors is correctly specified.\n",
      "[2] The condition number is large, 1.38e+04. This might indicate that there are\n",
      "strong multicollinearity or other numerical problems.\n"
     ]
    }
   ],
   "source": [
    "X_dumm_c = sm.add_constant(X_dumm)\n",
    "model = sm.OLS(y, X_dumm_c)\n",
    "results = model.fit()\n",
    "print(results.summary())"
   ]
  },
  {
   "cell_type": "code",
   "execution_count": 44,
   "id": "885fb912",
   "metadata": {},
   "outputs": [
    {
     "name": "stdout",
     "output_type": "stream",
     "text": [
      "0.9503795837148971\n",
      "0.9299476475975017\n",
      "const            7.573668e+07\n",
      "minutes         -2.274047e+06\n",
      "Area             1.775590e+06\n",
      "Year            -9.504725e+05\n",
      "BCR             -2.994994e+05\n",
      "FAR             -6.894131e+04\n",
      "Reformed         7.205383e+06\n",
      "Structure_ＳＲＣ    4.965924e+05\n",
      "dtype: float64\n"
     ]
    }
   ],
   "source": [
    "print(results.rsquared)\n",
    "print(results.rsquared_adj)\n",
    "print(results.params)"
   ]
  },
  {
   "cell_type": "code",
   "execution_count": 45,
   "id": "a07a2ff3",
   "metadata": {},
   "outputs": [
    {
     "name": "stdout",
     "output_type": "stream",
     "text": [
      "                                 OLS Regression Results                                \n",
      "=======================================================================================\n",
      "Dep. Variable:                  Price   R-squared (uncentered):                   0.950\n",
      "Model:                            OLS   Adj. R-squared (uncentered):              0.931\n",
      "Method:                 Least Squares   F-statistic:                              49.25\n",
      "Date:                Mon, 06 Oct 2025   Prob (F-statistic):                    1.85e-10\n",
      "Time:                        17:03:33   Log-Likelihood:                          2.0684\n",
      "No. Observations:                  25   AIC:                                      9.863\n",
      "Df Residuals:                      18   BIC:                                      18.40\n",
      "Df Model:                           7                                                  \n",
      "Covariance Type:            nonrobust                                                  \n",
      "=================================================================================\n",
      "                    coef    std err          t      P>|t|      [0.025      0.975]\n",
      "---------------------------------------------------------------------------------\n",
      "minutes          -0.0518      0.055     -0.950      0.355      -0.166       0.063\n",
      "Area              0.9627      0.082     11.803      0.000       0.791       1.134\n",
      "Year             -0.1727      0.083     -2.085      0.052      -0.347       0.001\n",
      "BCR              -0.0224      0.081     -0.275      0.786      -0.194       0.149\n",
      "FAR              -0.1017      0.068     -1.491      0.153      -0.245       0.042\n",
      "Reformed          0.0365      0.078      0.466      0.647      -0.128       0.201\n",
      "Structure_ＳＲＣ     0.0033      0.064      0.051      0.960      -0.131       0.138\n",
      "==============================================================================\n",
      "Omnibus:                       16.600   Durbin-Watson:                   0.956\n",
      "Prob(Omnibus):                  0.000   Jarque-Bera (JB):               21.712\n",
      "Skew:                           1.377   Prob(JB):                     1.93e-05\n",
      "Kurtosis:                       6.642   Cond. No.                         3.23\n",
      "==============================================================================\n",
      "\n",
      "Notes:\n",
      "[1] R² is computed without centering (uncentered) since the model does not contain a constant.\n",
      "[2] Standard Errors assume that the covariance matrix of the errors is correctly specified.\n"
     ]
    }
   ],
   "source": [
    "X_scaled_ar = scale(X_dumm)\n",
    "y_scaled_ar = scale(y)\n",
    "X_scaled = pd.DataFrame(X_scaled_ar, columns=X_dumm.columns)\n",
    "y_scaled = pd.Series(y_scaled_ar, name=y.name)\n",
    "model = sm.OLS(y_scaled, X_scaled)\n",
    "results_scaled = model.fit()\n",
    "print(results_scaled.summary())"
   ]
  },
  {
   "cell_type": "code",
   "execution_count": 46,
   "id": "782c1165",
   "metadata": {},
   "outputs": [
    {
     "name": "stdout",
     "output_type": "stream",
     "text": [
      "Area             0.962703\n",
      "Year            -0.172663\n",
      "FAR             -0.101733\n",
      "minutes         -0.051779\n",
      "Reformed         0.036470\n",
      "BCR             -0.022436\n",
      "Structure_ＳＲＣ    0.003291\n",
      "dtype: float64\n"
     ]
    }
   ],
   "source": [
    "print(results_scaled.params.sort_values(key=np.abs, ascending=False))"
   ]
  },
  {
   "cell_type": "code",
   "execution_count": 47,
   "id": "442218e7",
   "metadata": {},
   "outputs": [
    {
     "name": "stdout",
     "output_type": "stream",
     "text": [
      "X for prediction:\n"
     ]
    },
    {
     "data": {
      "text/html": [
       "<div>\n",
       "<style scoped>\n",
       "    .dataframe tbody tr th:only-of-type {\n",
       "        vertical-align: middle;\n",
       "    }\n",
       "\n",
       "    .dataframe tbody tr th {\n",
       "        vertical-align: top;\n",
       "    }\n",
       "\n",
       "    .dataframe thead th {\n",
       "        text-align: right;\n",
       "    }\n",
       "</style>\n",
       "<table border=\"1\" class=\"dataframe\">\n",
       "  <thead>\n",
       "    <tr style=\"text-align: right;\">\n",
       "      <th></th>\n",
       "      <th>minutes</th>\n",
       "      <th>Area</th>\n",
       "      <th>Year</th>\n",
       "      <th>BCR</th>\n",
       "      <th>FAR</th>\n",
       "      <th>Reformed</th>\n",
       "      <th>Structure_ＳＲＣ</th>\n",
       "    </tr>\n",
       "  </thead>\n",
       "  <tbody>\n",
       "    <tr>\n",
       "      <th>0</th>\n",
       "      <td>5</td>\n",
       "      <td>65</td>\n",
       "      <td>4</td>\n",
       "      <td>75</td>\n",
       "      <td>510</td>\n",
       "      <td>1</td>\n",
       "      <td>1</td>\n",
       "    </tr>\n",
       "    <tr>\n",
       "      <th>1</th>\n",
       "      <td>15</td>\n",
       "      <td>75</td>\n",
       "      <td>10</td>\n",
       "      <td>65</td>\n",
       "      <td>410</td>\n",
       "      <td>0</td>\n",
       "      <td>0</td>\n",
       "    </tr>\n",
       "  </tbody>\n",
       "</table>\n",
       "</div>"
      ],
      "text/plain": [
       "   minutes  Area  Year  BCR  FAR  Reformed  Structure_ＳＲＣ\n",
       "0        5    65     4   75  510         1              1\n",
       "1       15    75    10   65  410         0              0"
      ]
     },
     "metadata": {},
     "output_type": "display_data"
    }
   ],
   "source": [
    "X_test = pd.DataFrame([[5,65, 4, 75, 510, 1,1],\n",
    "                       [15,75, 10, 65, 410, 0,0],\n",
    "                        ],\n",
    "                        columns=X_dumm.columns)  # example\n",
    "print('X for prediction:')\n",
    "display(X_test)"
   ]
  },
  {
   "cell_type": "code",
   "execution_count": 48,
   "id": "d1c9ee7b",
   "metadata": {},
   "outputs": [
    {
     "name": "stdout",
     "output_type": "stream",
     "text": [
      "0    1.260574e+08\n",
      "1    1.175571e+08\n",
      "dtype: float64\n"
     ]
    }
   ],
   "source": [
    "X_test_c = sm.add_constant(X_test,has_constant='add')\n",
    "y_test = results.predict(X_test_c)\n",
    "print(y_test)"
   ]
  },
  {
   "cell_type": "code",
   "execution_count": 49,
   "id": "53efb2a8",
   "metadata": {},
   "outputs": [
    {
     "name": "stdout",
     "output_type": "stream",
     "text": [
      "0    1.338248e+08\n",
      "1    3.373661e+08\n",
      "2    3.248177e+07\n",
      "3    1.882008e+07\n",
      "4    3.239889e+07\n",
      "dtype: float64\n"
     ]
    }
   ],
   "source": [
    "y_pred = results.predict(X_dumm_c)\n",
    "print(y_pred.head())"
   ]
  },
  {
   "cell_type": "code",
   "execution_count": 50,
   "id": "a8e093c9",
   "metadata": {},
   "outputs": [
    {
     "name": "stdout",
     "output_type": "stream",
     "text": [
      "MSE, RMSE: 260323312082204.3 16134537.863918021\n"
     ]
    }
   ],
   "source": [
    "mse = mean_squared_error(y, y_pred)\n",
    "print('MSE, RMSE:', mse, np.sqrt(mse))"
   ]
  },
  {
   "cell_type": "code",
   "execution_count": 51,
   "id": "a056e75c",
   "metadata": {},
   "outputs": [
    {
     "data": {
      "text/html": [
       "<div>\n",
       "<style scoped>\n",
       "    .dataframe tbody tr th:only-of-type {\n",
       "        vertical-align: middle;\n",
       "    }\n",
       "\n",
       "    .dataframe tbody tr th {\n",
       "        vertical-align: top;\n",
       "    }\n",
       "\n",
       "    .dataframe thead th {\n",
       "        text-align: right;\n",
       "    }\n",
       "</style>\n",
       "<table border=\"1\" class=\"dataframe\">\n",
       "  <thead>\n",
       "    <tr style=\"text-align: right;\">\n",
       "      <th></th>\n",
       "      <th>minutes</th>\n",
       "      <th>Area</th>\n",
       "      <th>Year</th>\n",
       "      <th>BCR</th>\n",
       "      <th>FAR</th>\n",
       "      <th>Reformed</th>\n",
       "      <th>Structure_ＳＲＣ</th>\n",
       "      <th>Price</th>\n",
       "    </tr>\n",
       "  </thead>\n",
       "  <tbody>\n",
       "    <tr>\n",
       "      <th>0</th>\n",
       "      <td>-0.242536</td>\n",
       "      <td>0.570390</td>\n",
       "      <td>-1.483523</td>\n",
       "      <td>0.294884</td>\n",
       "      <td>-0.711057</td>\n",
       "      <td>-0.436436</td>\n",
       "      <td>-0.750000</td>\n",
       "      <td>1.640727</td>\n",
       "    </tr>\n",
       "    <tr>\n",
       "      <th>1</th>\n",
       "      <td>0.970143</td>\n",
       "      <td>3.880690</td>\n",
       "      <td>1.404482</td>\n",
       "      <td>-3.391165</td>\n",
       "      <td>-1.646659</td>\n",
       "      <td>-0.436436</td>\n",
       "      <td>1.333333</td>\n",
       "      <td>3.849716</td>\n",
       "    </tr>\n",
       "    <tr>\n",
       "      <th>2</th>\n",
       "      <td>0.363803</td>\n",
       "      <td>-0.448164</td>\n",
       "      <td>-0.343521</td>\n",
       "      <td>0.294884</td>\n",
       "      <td>1.160146</td>\n",
       "      <td>-0.436436</td>\n",
       "      <td>-0.750000</td>\n",
       "      <td>-0.457813</td>\n",
       "    </tr>\n",
       "    <tr>\n",
       "      <th>3</th>\n",
       "      <td>-0.848875</td>\n",
       "      <td>-0.702802</td>\n",
       "      <td>-0.267520</td>\n",
       "      <td>0.294884</td>\n",
       "      <td>1.160146</td>\n",
       "      <td>-0.436436</td>\n",
       "      <td>1.333333</td>\n",
       "      <td>-0.568263</td>\n",
       "    </tr>\n",
       "    <tr>\n",
       "      <th>4</th>\n",
       "      <td>0.363803</td>\n",
       "      <td>-0.575483</td>\n",
       "      <td>-0.495521</td>\n",
       "      <td>0.294884</td>\n",
       "      <td>0.224544</td>\n",
       "      <td>-0.436436</td>\n",
       "      <td>-0.750000</td>\n",
       "      <td>-0.582069</td>\n",
       "    </tr>\n",
       "  </tbody>\n",
       "</table>\n",
       "</div>"
      ],
      "text/plain": [
       "    minutes      Area      Year       BCR       FAR  Reformed  Structure_ＳＲＣ  \\\n",
       "0 -0.242536  0.570390 -1.483523  0.294884 -0.711057 -0.436436      -0.750000   \n",
       "1  0.970143  3.880690  1.404482 -3.391165 -1.646659 -0.436436       1.333333   \n",
       "2  0.363803 -0.448164 -0.343521  0.294884  1.160146 -0.436436      -0.750000   \n",
       "3 -0.848875 -0.702802 -0.267520  0.294884  1.160146 -0.436436       1.333333   \n",
       "4  0.363803 -0.575483 -0.495521  0.294884  0.224544 -0.436436      -0.750000   \n",
       "\n",
       "      Price  \n",
       "0  1.640727  \n",
       "1  3.849716  \n",
       "2 -0.457813  \n",
       "3 -0.568263  \n",
       "4 -0.582069  "
      ]
     },
     "metadata": {},
     "output_type": "display_data"
    }
   ],
   "source": [
    "d_scaled=pd.concat([X_scaled,y_scaled],axis=1)\n",
    "display(d_scaled.head())"
   ]
  },
  {
   "cell_type": "code",
   "execution_count": 52,
   "id": "2a70c56b",
   "metadata": {},
   "outputs": [],
   "source": [
    "def step_aic_forward(model, exog, endog, **kwargs):\n",
    "    exog = np.r_[[exog]].flatten()\n",
    "    endog = np.r_[[endog]].flatten()\n",
    "    remaining = set(exog)\n",
    "    selected = [] \n",
    "\n",
    "    formula_head = 'Q(\"' + '\") + Q(\"'.join(endog) + '\") ~ '\n",
    "    formula = formula_head + '1'\n",
    "    aic = model(formula=formula, **kwargs).fit().aic\n",
    "    print('AIC: {:.3f}, formula: {}'.format(aic, formula))\n",
    "\n",
    "    current_score, best_new_score = aic, aic\n",
    "\n",
    "    while True:\n",
    "        score_with_candidates = []\n",
    "        for candidate in remaining:\n",
    "            formula_tail = 'Q(\"' + '\") + Q(\"'.join(selected + [candidate]) + '\")'\n",
    "            formula = formula_head + formula_tail\n",
    "            aic = model(formula=formula, **kwargs).fit().aic\n",
    "            print('AIC: {:.3f}, formula: {}'.format(aic, formula))\n",
    "\n",
    "            score_with_candidates.append((aic, candidate))\n",
    "\n",
    "        score_with_candidates.sort()\n",
    "        best_score, best_candidate = score_with_candidates[0]\n",
    "\n",
    "        improved = False\n",
    "        if best_score < current_score:\n",
    "            remaining.remove(best_candidate)\n",
    "            selected.append(best_candidate)\n",
    "            current_score = best_score\n",
    "            improved = True\n",
    "            \n",
    "        if not remaining or not improved: break\n",
    "\n",
    "    formula = formula_head + 'Q(\"' + '\") + Q(\"'.join(selected) + '\")'\n",
    "    print('The best formula: {}'.format(formula))\n",
    "    aic = model(formula=formula, **kwargs).fit().aic\n",
    "    print('Minimum AIC: {:.3f}'.format(aic))\n",
    "    \n",
    "    ret = model(formula, **kwargs).fit()\n",
    "    ret.model.exog_names_org = [re.sub(r'Q\\(\\\"(.*)\\\"\\)',r'\\1',x) for x in list(ret.model.exog_names)]\n",
    "    ret.model.endog_names_org = re.sub(r'Q\\(\\\"(.*)\\\"\\)',r'\\1',ret.model.endog_names)\n",
    "    return ret"
   ]
  },
  {
   "cell_type": "code",
   "execution_count": 53,
   "id": "85c4ee56",
   "metadata": {},
   "outputs": [
    {
     "name": "stdout",
     "output_type": "stream",
     "text": [
      "AIC: 72.947, formula: Q(\"Price\") ~ 1\n",
      "AIC: 69.082, formula: Q(\"Price\") ~ Q(\"FAR\")\n",
      "AIC: 74.898, formula: Q(\"Price\") ~ Q(\"minutes\")\n",
      "AIC: 11.323, formula: Q(\"Price\") ~ Q(\"Area\")\n",
      "AIC: 56.065, formula: Q(\"Price\") ~ Q(\"BCR\")\n",
      "AIC: 74.079, formula: Q(\"Price\") ~ Q(\"Reformed\")\n",
      "AIC: 74.278, formula: Q(\"Price\") ~ Q(\"Year\")\n",
      "AIC: 74.493, formula: Q(\"Price\") ~ Q(\"Structure_ＳＲＣ\")\n",
      "AIC: 11.179, formula: Q(\"Price\") ~ Q(\"Area\") + Q(\"FAR\")\n",
      "AIC: 12.593, formula: Q(\"Price\") ~ Q(\"Area\") + Q(\"minutes\")\n",
      "AIC: 12.855, formula: Q(\"Price\") ~ Q(\"Area\") + Q(\"BCR\")\n",
      "AIC: 10.550, formula: Q(\"Price\") ~ Q(\"Area\") + Q(\"Reformed\")\n",
      "AIC: 6.957, formula: Q(\"Price\") ~ Q(\"Area\") + Q(\"Year\")\n",
      "AIC: 11.483, formula: Q(\"Price\") ~ Q(\"Area\") + Q(\"Structure_ＳＲＣ\")\n",
      "AIC: 5.838, formula: Q(\"Price\") ~ Q(\"Area\") + Q(\"Year\") + Q(\"FAR\")\n",
      "AIC: 7.669, formula: Q(\"Price\") ~ Q(\"Area\") + Q(\"Year\") + Q(\"minutes\")\n",
      "AIC: 8.169, formula: Q(\"Price\") ~ Q(\"Area\") + Q(\"Year\") + Q(\"BCR\")\n",
      "AIC: 8.950, formula: Q(\"Price\") ~ Q(\"Area\") + Q(\"Year\") + Q(\"Reformed\")\n",
      "AIC: 8.815, formula: Q(\"Price\") ~ Q(\"Area\") + Q(\"Year\") + Q(\"Structure_ＳＲＣ\")\n",
      "AIC: 6.255, formula: Q(\"Price\") ~ Q(\"Area\") + Q(\"Year\") + Q(\"FAR\") + Q(\"minutes\")\n",
      "AIC: 7.682, formula: Q(\"Price\") ~ Q(\"Area\") + Q(\"Year\") + Q(\"FAR\") + Q(\"BCR\")\n",
      "AIC: 7.310, formula: Q(\"Price\") ~ Q(\"Area\") + Q(\"Year\") + Q(\"FAR\") + Q(\"Reformed\")\n",
      "AIC: 7.792, formula: Q(\"Price\") ~ Q(\"Area\") + Q(\"Year\") + Q(\"FAR\") + Q(\"Structure_ＳＲＣ\")\n",
      "The best formula: Q(\"Price\") ~ Q(\"Area\") + Q(\"Year\") + Q(\"FAR\")\n",
      "Minimum AIC: 5.838\n"
     ]
    }
   ],
   "source": [
    "header_y = y_scaled.name\n",
    "header_x = X_scaled.columns\n",
    "model = step_aic_forward(smf.ols, header_x,header_y, data=d_scaled)"
   ]
  },
  {
   "cell_type": "code",
   "execution_count": 54,
   "id": "2b527a83",
   "metadata": {},
   "outputs": [
    {
     "name": "stdout",
     "output_type": "stream",
     "text": [
      "                                 OLS Regression Results                                \n",
      "=======================================================================================\n",
      "Dep. Variable:                  Price   R-squared (uncentered):                   0.946\n",
      "Model:                            OLS   Adj. R-squared (uncentered):              0.939\n",
      "Method:                 Least Squares   F-statistic:                              129.2\n",
      "Date:                Mon, 06 Oct 2025   Prob (F-statistic):                    4.04e-14\n",
      "Time:                        17:03:34   Log-Likelihood:                          1.0811\n",
      "No. Observations:                  25   AIC:                                      3.838\n",
      "Df Residuals:                      22   BIC:                                      7.494\n",
      "Df Model:                           3                                                  \n",
      "Covariance Type:            nonrobust                                                  \n",
      "==============================================================================\n",
      "                 coef    std err          t      P>|t|      [0.025      0.975]\n",
      "------------------------------------------------------------------------------\n",
      "Area           0.9659      0.056     17.270      0.000       0.850       1.082\n",
      "Year          -0.1420      0.052     -2.740      0.012      -0.250      -0.035\n",
      "FAR           -0.0922      0.054     -1.710      0.101      -0.204       0.020\n",
      "==============================================================================\n",
      "Omnibus:                       17.715   Durbin-Watson:                   1.112\n",
      "Prob(Omnibus):                  0.000   Jarque-Bera (JB):               23.450\n",
      "Skew:                           1.486   Prob(JB):                     8.09e-06\n",
      "Kurtosis:                       6.699   Cond. No.                         1.67\n",
      "==============================================================================\n",
      "\n",
      "Notes:\n",
      "[1] R² is computed without centering (uncentered) since the model does not contain a constant.\n",
      "[2] Standard Errors assume that the covariance matrix of the errors is correctly specified.\n"
     ]
    }
   ],
   "source": [
    "X_scaled2 = X_scaled[['Area', 'Year', 'FAR']]\n",
    "\n",
    "mod2 = sm.OLS(y_scaled,X_scaled2)\n",
    "res2 = mod2.fit()\n",
    "print(res2.summary())"
   ]
  },
  {
   "cell_type": "code",
   "execution_count": 55,
   "id": "21bc1362",
   "metadata": {},
   "outputs": [
    {
     "data": {
      "text/html": [
       "<div>\n",
       "<style scoped>\n",
       "    .dataframe tbody tr th:only-of-type {\n",
       "        vertical-align: middle;\n",
       "    }\n",
       "\n",
       "    .dataframe tbody tr th {\n",
       "        vertical-align: top;\n",
       "    }\n",
       "\n",
       "    .dataframe thead th {\n",
       "        text-align: right;\n",
       "    }\n",
       "</style>\n",
       "<table border=\"1\" class=\"dataframe\">\n",
       "  <thead>\n",
       "    <tr style=\"text-align: right;\">\n",
       "      <th></th>\n",
       "      <th>VIF</th>\n",
       "    </tr>\n",
       "  </thead>\n",
       "  <tbody>\n",
       "    <tr>\n",
       "      <th>Area</th>\n",
       "      <td>1.281600</td>\n",
       "    </tr>\n",
       "    <tr>\n",
       "      <th>Year</th>\n",
       "      <td>1.100850</td>\n",
       "    </tr>\n",
       "    <tr>\n",
       "      <th>FAR</th>\n",
       "      <td>1.191255</td>\n",
       "    </tr>\n",
       "  </tbody>\n",
       "</table>\n",
       "</div>"
      ],
      "text/plain": [
       "           VIF\n",
       "Area  1.281600\n",
       "Year  1.100850\n",
       "FAR   1.191255"
      ]
     },
     "execution_count": 55,
     "metadata": {},
     "output_type": "execute_result"
    }
   ],
   "source": [
    "num_cols = mod2.exog.shape[1] \n",
    "vifs = [variance_inflation_factor(mod2.exog, i)\n",
    "        for i in range(0, num_cols)]\n",
    "pd.DataFrame(vifs, index=mod2.exog_names, columns=[\"VIF\"])"
   ]
  },
  {
   "cell_type": "code",
   "execution_count": 56,
   "id": "c2cfe362",
   "metadata": {},
   "outputs": [
    {
     "name": "stdout",
     "output_type": "stream",
     "text": [
      "                            OLS Regression Results                            \n",
      "==============================================================================\n",
      "Dep. Variable:                  Price   R-squared:                       0.946\n",
      "Model:                            OLS   Adj. R-squared:                  0.939\n",
      "Method:                 Least Squares   F-statistic:                     123.4\n",
      "Date:                Mon, 06 Oct 2025   Prob (F-statistic):           1.71e-13\n",
      "Time:                        17:03:34   Log-Likelihood:                -451.37\n",
      "No. Observations:                  25   AIC:                             910.7\n",
      "Df Residuals:                      21   BIC:                             915.6\n",
      "Df Model:                           3                                         \n",
      "Covariance Type:            nonrobust                                         \n",
      "==============================================================================\n",
      "                 coef    std err          t      P>|t|      [0.025      0.975]\n",
      "------------------------------------------------------------------------------\n",
      "const        3.84e+07   2.47e+07      1.552      0.136   -1.31e+07    8.99e+07\n",
      "Area        1.781e+06   1.06e+05     16.873      0.000    1.56e+06       2e+06\n",
      "Year       -7.819e+05   2.92e+05     -2.677      0.014   -1.39e+06   -1.75e+05\n",
      "FAR        -6.248e+04   3.74e+04     -1.671      0.110    -1.4e+05    1.53e+04\n",
      "==============================================================================\n",
      "Omnibus:                       17.715   Durbin-Watson:                   1.112\n",
      "Prob(Omnibus):                  0.000   Jarque-Bera (JB):               23.450\n",
      "Skew:                           1.486   Prob(JB):                     8.09e-06\n",
      "Kurtosis:                       6.699   Cond. No.                     3.97e+03\n",
      "==============================================================================\n",
      "\n",
      "Notes:\n",
      "[1] Standard Errors assume that the covariance matrix of the errors is correctly specified.\n",
      "[2] The condition number is large, 3.97e+03. This might indicate that there are\n",
      "strong multicollinearity or other numerical problems.\n"
     ]
    }
   ],
   "source": [
    "X_final = X_dumm[['Area', 'Year', 'FAR']]\n",
    "\n",
    "mod_final = sm.OLS(y, sm.add_constant(X_final))\n",
    "res_final = mod_final.fit()\n",
    "print(res_final.summary())"
   ]
  },
  {
   "cell_type": "code",
   "execution_count": 57,
   "id": "e1888a30",
   "metadata": {},
   "outputs": [
    {
     "name": "stdout",
     "output_type": "stream",
     "text": [
      "Area     47.60\n",
      "Year     20.52\n",
      "FAR     576.00\n",
      "dtype: float64\n"
     ]
    },
    {
     "data": {
      "text/html": [
       "<div>\n",
       "<style scoped>\n",
       "    .dataframe tbody tr th:only-of-type {\n",
       "        vertical-align: middle;\n",
       "    }\n",
       "\n",
       "    .dataframe tbody tr th {\n",
       "        vertical-align: top;\n",
       "    }\n",
       "\n",
       "    .dataframe thead th {\n",
       "        text-align: right;\n",
       "    }\n",
       "</style>\n",
       "<table border=\"1\" class=\"dataframe\">\n",
       "  <thead>\n",
       "    <tr style=\"text-align: right;\">\n",
       "      <th></th>\n",
       "      <th>Area</th>\n",
       "      <th>Year</th>\n",
       "      <th>FAR</th>\n",
       "    </tr>\n",
       "  </thead>\n",
       "  <tbody>\n",
       "    <tr>\n",
       "      <th>0</th>\n",
       "      <td>70</td>\n",
       "      <td>1</td>\n",
       "      <td>500</td>\n",
       "    </tr>\n",
       "    <tr>\n",
       "      <th>1</th>\n",
       "      <td>200</td>\n",
       "      <td>39</td>\n",
       "      <td>400</td>\n",
       "    </tr>\n",
       "    <tr>\n",
       "      <th>2</th>\n",
       "      <td>30</td>\n",
       "      <td>16</td>\n",
       "      <td>700</td>\n",
       "    </tr>\n",
       "    <tr>\n",
       "      <th>3</th>\n",
       "      <td>20</td>\n",
       "      <td>17</td>\n",
       "      <td>700</td>\n",
       "    </tr>\n",
       "    <tr>\n",
       "      <th>4</th>\n",
       "      <td>25</td>\n",
       "      <td>14</td>\n",
       "      <td>600</td>\n",
       "    </tr>\n",
       "  </tbody>\n",
       "</table>\n",
       "</div>"
      ],
      "text/plain": [
       "   Area  Year  FAR\n",
       "0    70     1  500\n",
       "1   200    39  400\n",
       "2    30    16  700\n",
       "3    20    17  700\n",
       "4    25    14  600"
      ]
     },
     "metadata": {},
     "output_type": "display_data"
    }
   ],
   "source": [
    "Sigma = np.asmatrix(X_final.cov())\n",
    "\n",
    "def Mahala2(vec_x, vec_mean, mat):\n",
    "    length = mat.shape[0]\n",
    "    vec_x = np.array(vec_x, dtype='float64')\n",
    "    vec = np.asmatrix((vec_x - vec_mean).values.reshape(length, 1))\n",
    "    inv = np.linalg.inv(mat)\n",
    "    mahala2 = vec.T.dot(inv.dot(vec))\n",
    "    return mahala2[0, 0]\n",
    "\n",
    "n = len(X_final) \n",
    "dfm = res_final.df_model \n",
    "t_0025 = ss.t.isf(q=0.05/2, df=n-dfm-1) \n",
    "vec_mean = X_final.mean() \n",
    "print(vec_mean)\n",
    "display(X_final.head())"
   ]
  },
  {
   "cell_type": "code",
   "execution_count": 58,
   "id": "140f4b73",
   "metadata": {},
   "outputs": [
    {
     "name": "stdout",
     "output_type": "stream",
     "text": [
      "const      1.0\n",
      "Area      70.0\n",
      "Year       1.0\n",
      "FAR      500.0\n",
      "Name: 0, dtype: float64\n",
      "理論値（theoretical value）: 131076914.15414217\n",
      "理論値の信頼区間（CI of theoretical value）：(114604611.27388398,147549217.03440034)\n"
     ]
    }
   ],
   "source": [
    "X = sm.add_constant(X_final).iloc[0,:] \n",
    "print(X)\n",
    "hat_y=X.dot(res_final.params)\n",
    "\n",
    "D2_0 = Mahala2(X_final.iloc[0,:], vec_mean, Sigma)\n",
    "Ve = res_final.scale\n",
    "Se_o = np.sqrt((1/n + D2_0 / (n-1)) * Ve) \n",
    "\n",
    "ci_low = hat_y - t_0025 * Se_o\n",
    "ci_up = hat_y + t_0025 * Se_o \n",
    "\n",
    "print(\"理論値（theoretical value）:\", hat_y)\n",
    "print(\"理論値の信頼区間（CI of theoretical value）：({0},{1})\".format(ci_low,ci_up))"
   ]
  },
  {
   "cell_type": "code",
   "execution_count": 59,
   "id": "b44a519d",
   "metadata": {},
   "outputs": [
    {
     "name": "stdout",
     "output_type": "stream",
     "text": [
      "const      1.0\n",
      "Area      65.0\n",
      "Year       4.0\n",
      "FAR      510.0\n",
      "Name: 0, dtype: float64\n",
      "予測値（Predicted value）: 119198934.78865579\n",
      "予測値の信頼区間（CI of predicted value）：(78467939.23492995,159929930.34238163)\n"
     ]
    }
   ],
   "source": [
    "X_test2 = X_test[['Area', 'Year', 'FAR']]\n",
    "X = sm.add_constant(X_test2).iloc[0,:]\n",
    "print(X)\n",
    "hat_y=X.dot(res_final.params) \n",
    "\n",
    "D2_0 = Mahala2(X_test2.iloc[0,:], vec_mean, Sigma) \n",
    "Se_p = np.sqrt((1 + 1/n + D2_0 / (n-1)) * Ve) \n",
    "\n",
    "pi_low = hat_y - t_0025 * Se_p\n",
    "pi_up = hat_y + t_0025 * Se_p\n",
    "\n",
    "print(\"予測値（Predicted value）:\", hat_y)\n",
    "print(\"予測値の信頼区間（CI of predicted value）：({0},{1})\".format(pi_low,pi_up))"
   ]
  }
 ],
 "metadata": {
  "kernelspec": {
   "display_name": "ds2025",
   "language": "python",
   "name": "python3"
  },
  "language_info": {
   "codemirror_mode": {
    "name": "ipython",
    "version": 3
   },
   "file_extension": ".py",
   "mimetype": "text/x-python",
   "name": "python",
   "nbconvert_exporter": "python",
   "pygments_lexer": "ipython3",
   "version": "3.9.15"
  }
 },
 "nbformat": 4,
 "nbformat_minor": 5
}
