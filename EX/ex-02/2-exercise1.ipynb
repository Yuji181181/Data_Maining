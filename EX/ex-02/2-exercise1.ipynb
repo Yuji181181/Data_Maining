{
 "cells": [
  {
   "cell_type": "code",
   "execution_count": 20,
   "id": "794b1de8",
   "metadata": {},
   "outputs": [],
   "source": [
    "import pandas as pd\n",
    "import numpy as np\n",
    "import matplotlib.pyplot as plt\n",
    "import seaborn as sns\n",
    "from scipy.stats import pearsonr\n",
    "import warnings\n",
    "warnings.filterwarnings('ignore')"
   ]
  },
  {
   "cell_type": "code",
   "execution_count": 21,
   "id": "6429031d",
   "metadata": {},
   "outputs": [
    {
     "name": "stdout",
     "output_type": "stream",
     "text": [
      "(12, 4)\n",
      "<class 'pandas.core.frame.DataFrame'>\n",
      "RangeIndex: 12 entries, 0 to 11\n",
      "Data columns (total 4 columns):\n",
      " #   Column  Non-Null Count  Dtype  \n",
      "---  ------  --------------  -----  \n",
      " 0   価格      12 non-null     int64  \n",
      " 1   走行距離    12 non-null     float64\n",
      " 2   乗車年数    12 non-null     int64  \n",
      " 3   車検      12 non-null     int64  \n",
      "dtypes: float64(1), int64(3)\n",
      "memory usage: 512.0 bytes\n",
      "None\n"
     ]
    },
    {
     "data": {
      "text/html": [
       "<div>\n",
       "<style scoped>\n",
       "    .dataframe tbody tr th:only-of-type {\n",
       "        vertical-align: middle;\n",
       "    }\n",
       "\n",
       "    .dataframe tbody tr th {\n",
       "        vertical-align: top;\n",
       "    }\n",
       "\n",
       "    .dataframe thead th {\n",
       "        text-align: right;\n",
       "    }\n",
       "</style>\n",
       "<table border=\"1\" class=\"dataframe\">\n",
       "  <thead>\n",
       "    <tr style=\"text-align: right;\">\n",
       "      <th></th>\n",
       "      <th>価格</th>\n",
       "      <th>走行距離</th>\n",
       "      <th>乗車年数</th>\n",
       "      <th>車検</th>\n",
       "    </tr>\n",
       "  </thead>\n",
       "  <tbody>\n",
       "    <tr>\n",
       "      <th>0</th>\n",
       "      <td>89</td>\n",
       "      <td>4.3</td>\n",
       "      <td>5</td>\n",
       "      <td>24</td>\n",
       "    </tr>\n",
       "    <tr>\n",
       "      <th>1</th>\n",
       "      <td>99</td>\n",
       "      <td>1.9</td>\n",
       "      <td>4</td>\n",
       "      <td>18</td>\n",
       "    </tr>\n",
       "    <tr>\n",
       "      <th>2</th>\n",
       "      <td>128</td>\n",
       "      <td>5.2</td>\n",
       "      <td>2</td>\n",
       "      <td>13</td>\n",
       "    </tr>\n",
       "    <tr>\n",
       "      <th>3</th>\n",
       "      <td>98</td>\n",
       "      <td>5.1</td>\n",
       "      <td>3</td>\n",
       "      <td>4</td>\n",
       "    </tr>\n",
       "    <tr>\n",
       "      <th>4</th>\n",
       "      <td>52</td>\n",
       "      <td>4.0</td>\n",
       "      <td>6</td>\n",
       "      <td>15</td>\n",
       "    </tr>\n",
       "  </tbody>\n",
       "</table>\n",
       "</div>"
      ],
      "text/plain": [
       "    価格  走行距離  乗車年数  車検\n",
       "0   89   4.3     5  24\n",
       "1   99   1.9     4  18\n",
       "2  128   5.2     2  13\n",
       "3   98   5.1     3   4\n",
       "4   52   4.0     6  15"
      ]
     },
     "metadata": {},
     "output_type": "display_data"
    }
   ],
   "source": [
    "df = pd.read_csv('usedcar.csv')\n",
    "print(df.shape)\n",
    "print(df.info())\n",
    "display(df.head())"
   ]
  },
  {
   "cell_type": "code",
   "execution_count": 22,
   "id": "472e91b1",
   "metadata": {},
   "outputs": [
    {
     "name": "stdout",
     "output_type": "stream",
     "text": [
      "乗車年数と価格の相関係数: -0.911\n",
      "scipy確認値: -0.911 (p値: 0.0000)\n",
      "\n",
      "計算結果: -0.91\n"
     ]
    }
   ],
   "source": [
    "corr_coefficient = df['乗車年数'].corr(df['価格'])\n",
    "print(f\"乗車年数と価格の相関係数: {corr_coefficient:.3f}\")\n",
    "\n",
    "corr_scipy, p_value = pearsonr(df['乗車年数'], df['価格'])\n",
    "print(f\"scipy確認値: {corr_scipy:.3f} (p値: {p_value:.4f})\")\n",
    "\n",
    "print(f\"\\n計算結果: {corr_coefficient:.2f}\")"
   ]
  },
  {
   "cell_type": "code",
   "execution_count": 23,
   "id": "f035abfd",
   "metadata": {},
   "outputs": [
    {
     "name": "stdout",
     "output_type": "stream",
     "text": [
      "         価格   走行距離   乗車年数     車検\n",
      "価格    1.000 -0.485 -0.911 -0.085\n",
      "走行距離 -0.485  1.000  0.277 -0.096\n",
      "乗車年数 -0.911  0.277  1.000  0.245\n",
      "車検   -0.085 -0.096  0.245  1.000\n"
     ]
    }
   ],
   "source": [
    "correlation_matrix = df.corr()\n",
    "print(correlation_matrix.round(3))"
   ]
  },
  {
   "cell_type": "code",
   "execution_count": 24,
   "id": "9f464e49",
   "metadata": {},
   "outputs": [
    {
     "name": "stdout",
     "output_type": "stream",
     "text": [
      "         価格   走行距離   乗車年数     車検\n",
      "価格    1.000 -0.570 -0.930  0.306\n",
      "走行距離 -0.570  1.000 -0.435  0.036\n",
      "乗車年数 -0.930 -0.435  1.000  0.384\n",
      "車検    0.306  0.036  0.384  1.000\n"
     ]
    }
   ],
   "source": [
    "# 偏相関係数行列を計算する関数\n",
    "def partial_correlation_matrix(df):\n",
    "    R = df.corr().values\n",
    "    \n",
    "    R_inv = np.linalg.inv(R)\n",
    "    \n",
    "    n = R_inv.shape[0]\n",
    "    partial_corr = np.zeros((n, n))\n",
    "    \n",
    "    for i in range(n):\n",
    "        for j in range(n):\n",
    "            if i != j:\n",
    "                partial_corr[i, j] = -R_inv[i, j] / np.sqrt(R_inv[i, i] * R_inv[j, j])\n",
    "            else:\n",
    "                partial_corr[i, j] = 1.0\n",
    "    \n",
    "    # データフレームに変換\n",
    "    partial_corr_df = pd.DataFrame(partial_corr, \n",
    "                                  index=df.columns, \n",
    "                                  columns=df.columns)\n",
    "    \n",
    "    return partial_corr_df\n",
    "\n",
    "partial_corr_matrix = partial_correlation_matrix(df)\n",
    "print(partial_corr_matrix.round(3))"
   ]
  },
  {
   "cell_type": "code",
   "execution_count": 25,
   "id": "552dbc75",
   "metadata": {},
   "outputs": [
    {
     "name": "stdout",
     "output_type": "stream",
     "text": [
      "乗車年数と価格の偏相関係数: -0.930\n",
      "\n",
      "計算結果: -0.93\n"
     ]
    }
   ],
   "source": [
    "partial_corr_years_price = partial_corr_matrix.loc['乗車年数', '価格']\n",
    "print(f\"乗車年数と価格の偏相関係数: {partial_corr_years_price:.3f}\")\n",
    "\n",
    "print(f\"\\n計算結果: {partial_corr_years_price:.2f}\")"
   ]
  },
  {
   "cell_type": "markdown",
   "id": "f5d456b2",
   "metadata": {},
   "source": [
    "## ③ 偏相関係数行列のヒートマップ"
   ]
  },
  {
   "cell_type": "code",
   "execution_count": 26,
   "id": "8a69cc3b",
   "metadata": {},
   "outputs": [
    {
     "data": {
      "text/plain": [
       "<Axes: >"
      ]
     },
     "execution_count": 26,
     "metadata": {},
     "output_type": "execute_result"
    },
    {
     "data": {
      "image/png": "[encoded data removed]",
      "text/plain": [
       "<Figure size 640x480 with 2 Axes>"
      ]
     },
     "metadata": {},
     "output_type": "display_data"
    }
   ],
   "source": [
    "sns.heatmap(partial_corr_matrix, \n",
    "            annot=True,           # 数値を表示\n",
    "            cmap='RdBu_r',       # カラーマップ（赤-青）\n",
    "            center=0,            # 中心を0に設定\n",
    "            square=True,         # 正方形のセルにする\n",
    "            fmt='.3f',           # 小数点以下3桁で表示\n",
    ")"
   ]
  }
 ],
 "metadata": {
  "kernelspec": {
   "display_name": "ds2025",
   "language": "python",
   "name": "python3"
  },
  "language_info": {
   "codemirror_mode": {
    "name": "ipython",
    "version": 3
   },
   "file_extension": ".py",
   "mimetype": "text/x-python",
   "name": "python",
   "nbconvert_exporter": "python",
   "pygments_lexer": "ipython3",
   "version": "3.9.15"
  }
 },
 "nbformat": 4,
 "nbformat_minor": 5
}
