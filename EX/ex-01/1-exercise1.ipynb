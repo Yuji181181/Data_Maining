{
 "cells": [
  {
   "cell_type": "code",
   "execution_count": 11,
   "id": "37c9adce",
   "metadata": {},
   "outputs": [],
   "source": [
    "import numpy as np\n",
    "import pandas as pd\n",
    "import statsmodels.api as sm\n",
    "from sklearn.preprocessing import scale"
   ]
  },
  {
   "cell_type": "code",
   "execution_count": 12,
   "id": "07a8db3a",
   "metadata": {},
   "outputs": [],
   "source": [
    "csv_in = 'condo.csv'\n",
    "df = pd.read_csv(csv_in, sep=',', skiprows=0, header=0,encoding='shift-jis')"
   ]
  },
  {
   "cell_type": "code",
   "execution_count": 13,
   "id": "9cc5536b",
   "metadata": {},
   "outputs": [
    {
     "name": "stdout",
     "output_type": "stream",
     "text": [
      "(25, 9)\n",
      "<class 'pandas.core.frame.DataFrame'>\n",
      "RangeIndex: 25 entries, 0 to 24\n",
      "Data columns (total 9 columns):\n",
      " #   Column     Non-Null Count  Dtype \n",
      "---  ------     --------------  ----- \n",
      " 0   No         25 non-null     int64 \n",
      " 1   minutes    25 non-null     int64 \n",
      " 2   Price      25 non-null     int64 \n",
      " 3   Area       25 non-null     int64 \n",
      " 4   Year       25 non-null     int64 \n",
      " 5   Structure  25 non-null     object\n",
      " 6   BCR        25 non-null     int64 \n",
      " 7   FAR        25 non-null     int64 \n",
      " 8   Reformed   25 non-null     int64 \n",
      "dtypes: int64(8), object(1)\n",
      "memory usage: 1.9+ KB\n",
      "None\n"
     ]
    },
    {
     "data": {
      "text/html": [
       "<div>\n",
       "<style scoped>\n",
       "    .dataframe tbody tr th:only-of-type {\n",
       "        vertical-align: middle;\n",
       "    }\n",
       "\n",
       "    .dataframe tbody tr th {\n",
       "        vertical-align: top;\n",
       "    }\n",
       "\n",
       "    .dataframe thead th {\n",
       "        text-align: right;\n",
       "    }\n",
       "</style>\n",
       "<table border=\"1\" class=\"dataframe\">\n",
       "  <thead>\n",
       "    <tr style=\"text-align: right;\">\n",
       "      <th></th>\n",
       "      <th>No</th>\n",
       "      <th>minutes</th>\n",
       "      <th>Price</th>\n",
       "      <th>Area</th>\n",
       "      <th>Year</th>\n",
       "      <th>Structure</th>\n",
       "      <th>BCR</th>\n",
       "      <th>FAR</th>\n",
       "      <th>Reformed</th>\n",
       "    </tr>\n",
       "  </thead>\n",
       "  <tbody>\n",
       "    <tr>\n",
       "      <th>0</th>\n",
       "      <td>1</td>\n",
       "      <td>3</td>\n",
       "      <td>190000000</td>\n",
       "      <td>70</td>\n",
       "      <td>1</td>\n",
       "      <td>ＲＣ</td>\n",
       "      <td>80</td>\n",
       "      <td>500</td>\n",
       "      <td>0</td>\n",
       "    </tr>\n",
       "    <tr>\n",
       "      <th>1</th>\n",
       "      <td>2</td>\n",
       "      <td>5</td>\n",
       "      <td>350000000</td>\n",
       "      <td>200</td>\n",
       "      <td>39</td>\n",
       "      <td>ＳＲＣ</td>\n",
       "      <td>60</td>\n",
       "      <td>400</td>\n",
       "      <td>0</td>\n",
       "    </tr>\n",
       "    <tr>\n",
       "      <th>2</th>\n",
       "      <td>4</td>\n",
       "      <td>4</td>\n",
       "      <td>38000000</td>\n",
       "      <td>30</td>\n",
       "      <td>16</td>\n",
       "      <td>ＲＣ</td>\n",
       "      <td>80</td>\n",
       "      <td>700</td>\n",
       "      <td>0</td>\n",
       "    </tr>\n",
       "    <tr>\n",
       "      <th>3</th>\n",
       "      <td>5</td>\n",
       "      <td>2</td>\n",
       "      <td>30000000</td>\n",
       "      <td>20</td>\n",
       "      <td>17</td>\n",
       "      <td>ＳＲＣ</td>\n",
       "      <td>80</td>\n",
       "      <td>700</td>\n",
       "      <td>0</td>\n",
       "    </tr>\n",
       "    <tr>\n",
       "      <th>4</th>\n",
       "      <td>6</td>\n",
       "      <td>4</td>\n",
       "      <td>29000000</td>\n",
       "      <td>25</td>\n",
       "      <td>14</td>\n",
       "      <td>ＲＣ</td>\n",
       "      <td>80</td>\n",
       "      <td>600</td>\n",
       "      <td>0</td>\n",
       "    </tr>\n",
       "  </tbody>\n",
       "</table>\n",
       "</div>"
      ],
      "text/plain": [
       "   No  minutes      Price  Area  Year Structure  BCR  FAR  Reformed\n",
       "0   1        3  190000000    70     1        ＲＣ   80  500         0\n",
       "1   2        5  350000000   200    39       ＳＲＣ   60  400         0\n",
       "2   4        4   38000000    30    16        ＲＣ   80  700         0\n",
       "3   5        2   30000000    20    17       ＳＲＣ   80  700         0\n",
       "4   6        4   29000000    25    14        ＲＣ   80  600         0"
      ]
     },
     "metadata": {},
     "output_type": "display_data"
    }
   ],
   "source": [
    "print(df.shape)\n",
    "print(df.info())\n",
    "display(df.head())"
   ]
  },
  {
   "cell_type": "code",
   "execution_count": 14,
   "id": "a5020cbf",
   "metadata": {},
   "outputs": [
    {
     "name": "stdout",
     "output_type": "stream",
     "text": [
      "(25, 7)\n"
     ]
    },
    {
     "data": {
      "text/html": [
       "<div>\n",
       "<style scoped>\n",
       "    .dataframe tbody tr th:only-of-type {\n",
       "        vertical-align: middle;\n",
       "    }\n",
       "\n",
       "    .dataframe tbody tr th {\n",
       "        vertical-align: top;\n",
       "    }\n",
       "\n",
       "    .dataframe thead th {\n",
       "        text-align: right;\n",
       "    }\n",
       "</style>\n",
       "<table border=\"1\" class=\"dataframe\">\n",
       "  <thead>\n",
       "    <tr style=\"text-align: right;\">\n",
       "      <th></th>\n",
       "      <th>minutes</th>\n",
       "      <th>Area</th>\n",
       "      <th>Year</th>\n",
       "      <th>Structure</th>\n",
       "      <th>BCR</th>\n",
       "      <th>FAR</th>\n",
       "      <th>Reformed</th>\n",
       "    </tr>\n",
       "  </thead>\n",
       "  <tbody>\n",
       "    <tr>\n",
       "      <th>0</th>\n",
       "      <td>3</td>\n",
       "      <td>70</td>\n",
       "      <td>1</td>\n",
       "      <td>ＲＣ</td>\n",
       "      <td>80</td>\n",
       "      <td>500</td>\n",
       "      <td>0</td>\n",
       "    </tr>\n",
       "    <tr>\n",
       "      <th>1</th>\n",
       "      <td>5</td>\n",
       "      <td>200</td>\n",
       "      <td>39</td>\n",
       "      <td>ＳＲＣ</td>\n",
       "      <td>60</td>\n",
       "      <td>400</td>\n",
       "      <td>0</td>\n",
       "    </tr>\n",
       "    <tr>\n",
       "      <th>2</th>\n",
       "      <td>4</td>\n",
       "      <td>30</td>\n",
       "      <td>16</td>\n",
       "      <td>ＲＣ</td>\n",
       "      <td>80</td>\n",
       "      <td>700</td>\n",
       "      <td>0</td>\n",
       "    </tr>\n",
       "    <tr>\n",
       "      <th>3</th>\n",
       "      <td>2</td>\n",
       "      <td>20</td>\n",
       "      <td>17</td>\n",
       "      <td>ＳＲＣ</td>\n",
       "      <td>80</td>\n",
       "      <td>700</td>\n",
       "      <td>0</td>\n",
       "    </tr>\n",
       "    <tr>\n",
       "      <th>4</th>\n",
       "      <td>4</td>\n",
       "      <td>25</td>\n",
       "      <td>14</td>\n",
       "      <td>ＲＣ</td>\n",
       "      <td>80</td>\n",
       "      <td>600</td>\n",
       "      <td>0</td>\n",
       "    </tr>\n",
       "  </tbody>\n",
       "</table>\n",
       "</div>"
      ],
      "text/plain": [
       "   minutes  Area  Year Structure  BCR  FAR  Reformed\n",
       "0        3    70     1        ＲＣ   80  500         0\n",
       "1        5   200    39       ＳＲＣ   60  400         0\n",
       "2        4    30    16        ＲＣ   80  700         0\n",
       "3        2    20    17       ＳＲＣ   80  700         0\n",
       "4        4    25    14        ＲＣ   80  600         0"
      ]
     },
     "metadata": {},
     "output_type": "display_data"
    },
    {
     "name": "stdout",
     "output_type": "stream",
     "text": [
      "(25,)\n",
      "0    190000000\n",
      "1    350000000\n",
      "2     38000000\n",
      "3     30000000\n",
      "4     29000000\n",
      "Name: Price, dtype: int64\n"
     ]
    }
   ],
   "source": [
    "X = df.drop(columns=['No','Price'])\n",
    "y = df['Price']\n",
    "print( X.shape)\n",
    "display(X.head())\n",
    "print(y.shape)\n",
    "print(y.head())"
   ]
  },
  {
   "cell_type": "code",
   "execution_count": 15,
   "id": "11d77082",
   "metadata": {},
   "outputs": [
    {
     "name": "stdout",
     "output_type": "stream",
     "text": [
      "X_dumm: (25, 7)\n"
     ]
    },
    {
     "data": {
      "text/html": [
       "<div>\n",
       "<style scoped>\n",
       "    .dataframe tbody tr th:only-of-type {\n",
       "        vertical-align: middle;\n",
       "    }\n",
       "\n",
       "    .dataframe tbody tr th {\n",
       "        vertical-align: top;\n",
       "    }\n",
       "\n",
       "    .dataframe thead th {\n",
       "        text-align: right;\n",
       "    }\n",
       "</style>\n",
       "<table border=\"1\" class=\"dataframe\">\n",
       "  <thead>\n",
       "    <tr style=\"text-align: right;\">\n",
       "      <th></th>\n",
       "      <th>minutes</th>\n",
       "      <th>Area</th>\n",
       "      <th>Year</th>\n",
       "      <th>BCR</th>\n",
       "      <th>FAR</th>\n",
       "      <th>Reformed</th>\n",
       "      <th>Structure_ＳＲＣ</th>\n",
       "    </tr>\n",
       "  </thead>\n",
       "  <tbody>\n",
       "    <tr>\n",
       "      <th>0</th>\n",
       "      <td>3</td>\n",
       "      <td>70</td>\n",
       "      <td>1</td>\n",
       "      <td>80</td>\n",
       "      <td>500</td>\n",
       "      <td>0</td>\n",
       "      <td>0</td>\n",
       "    </tr>\n",
       "    <tr>\n",
       "      <th>1</th>\n",
       "      <td>5</td>\n",
       "      <td>200</td>\n",
       "      <td>39</td>\n",
       "      <td>60</td>\n",
       "      <td>400</td>\n",
       "      <td>0</td>\n",
       "      <td>1</td>\n",
       "    </tr>\n",
       "    <tr>\n",
       "      <th>2</th>\n",
       "      <td>4</td>\n",
       "      <td>30</td>\n",
       "      <td>16</td>\n",
       "      <td>80</td>\n",
       "      <td>700</td>\n",
       "      <td>0</td>\n",
       "      <td>0</td>\n",
       "    </tr>\n",
       "    <tr>\n",
       "      <th>3</th>\n",
       "      <td>2</td>\n",
       "      <td>20</td>\n",
       "      <td>17</td>\n",
       "      <td>80</td>\n",
       "      <td>700</td>\n",
       "      <td>0</td>\n",
       "      <td>1</td>\n",
       "    </tr>\n",
       "    <tr>\n",
       "      <th>4</th>\n",
       "      <td>4</td>\n",
       "      <td>25</td>\n",
       "      <td>14</td>\n",
       "      <td>80</td>\n",
       "      <td>600</td>\n",
       "      <td>0</td>\n",
       "      <td>0</td>\n",
       "    </tr>\n",
       "  </tbody>\n",
       "</table>\n",
       "</div>"
      ],
      "text/plain": [
       "   minutes  Area  Year  BCR  FAR  Reformed  Structure_ＳＲＣ\n",
       "0        3    70     1   80  500         0              0\n",
       "1        5   200    39   60  400         0              1\n",
       "2        4    30    16   80  700         0              0\n",
       "3        2    20    17   80  700         0              1\n",
       "4        4    25    14   80  600         0              0"
      ]
     },
     "metadata": {},
     "output_type": "display_data"
    }
   ],
   "source": [
    "X_dumm = pd.get_dummies(X, drop_first=True, dtype='uint8')\n",
    "print('X_dumm:', X_dumm.shape)\n",
    "display(X_dumm.head())"
   ]
  },
  {
   "cell_type": "code",
   "execution_count": 16,
   "id": "57123764",
   "metadata": {},
   "outputs": [
    {
     "name": "stdout",
     "output_type": "stream",
     "text": [
      "                            OLS Regression Results                            \n",
      "==============================================================================\n",
      "Dep. Variable:                  Price   R-squared:                       0.950\n",
      "Model:                            OLS   Adj. R-squared:                  0.930\n",
      "Method:                 Least Squares   F-statistic:                     46.51\n",
      "Date:                Mon, 22 Sep 2025   Prob (F-statistic):           7.36e-10\n",
      "Time:                        16:54:15   Log-Likelihood:                -450.39\n",
      "No. Observations:                  25   AIC:                             916.8\n",
      "Df Residuals:                      17   BIC:                             926.5\n",
      "Df Model:                           7                                         \n",
      "Covariance Type:            nonrobust                                         \n",
      "=================================================================================\n",
      "                    coef    std err          t      P>|t|      [0.025      0.975]\n",
      "---------------------------------------------------------------------------------\n",
      "const          7.574e+07   9.08e+07      0.834      0.416   -1.16e+08    2.67e+08\n",
      "minutes       -2.274e+06   2.46e+06     -0.923      0.369   -7.47e+06    2.92e+06\n",
      "Area           1.776e+06   1.55e+05     11.471      0.000    1.45e+06     2.1e+06\n",
      "Year          -9.505e+05   4.69e+05     -2.026      0.059   -1.94e+06    3.92e+04\n",
      "BCR           -2.995e+05   1.12e+06     -0.268      0.792   -2.66e+06    2.06e+06\n",
      "FAR           -6.894e+04   4.76e+04     -1.449      0.166   -1.69e+05    3.15e+04\n",
      "Reformed       7.205e+06   1.59e+07      0.453      0.656   -2.64e+07    4.08e+07\n",
      "Structure_ＳＲＣ  4.966e+05   9.95e+06      0.050      0.961   -2.05e+07    2.15e+07\n",
      "==============================================================================\n",
      "Omnibus:                       16.600   Durbin-Watson:                   0.956\n",
      "Prob(Omnibus):                  0.000   Jarque-Bera (JB):               21.712\n",
      "Skew:                           1.377   Prob(JB):                     1.93e-05\n",
      "Kurtosis:                       6.642   Cond. No.                     1.38e+04\n",
      "==============================================================================\n",
      "\n",
      "Notes:\n",
      "[1] Standard Errors assume that the covariance matrix of the errors is correctly specified.\n",
      "[2] The condition number is large, 1.38e+04. This might indicate that there are\n",
      "strong multicollinearity or other numerical problems.\n"
     ]
    }
   ],
   "source": [
    "X_dumm_c = sm.add_constant(X_dumm)\n",
    "model = sm.OLS(y, X_dumm_c)\n",
    "results = model.fit()\n",
    "print(results.summary())"
   ]
  },
  {
   "cell_type": "code",
   "execution_count": 17,
   "id": "ae62f85a",
   "metadata": {},
   "outputs": [
    {
     "name": "stdout",
     "output_type": "stream",
     "text": [
      "R2: 0.9503795837148971\n",
      "Adj R2: 0.9299476475975017\n",
      "const            7.573668e+07\n",
      "minutes         -2.274047e+06\n",
      "Area             1.775590e+06\n",
      "Year            -9.504725e+05\n",
      "BCR             -2.994994e+05\n",
      "FAR             -6.894131e+04\n",
      "Reformed         7.205383e+06\n",
      "Structure_ＳＲＣ    4.965924e+05\n",
      "dtype: float64\n"
     ]
    }
   ],
   "source": [
    "print('R2:', results.rsquared)\n",
    "print('Adj R2:', results.rsquared_adj)\n",
    "print(results.params)"
   ]
  },
  {
   "cell_type": "code",
   "execution_count": 18,
   "id": "b80f4cf1",
   "metadata": {},
   "outputs": [],
   "source": [
    "X_scaled_ar = scale(X_dumm)\n",
    "y_scaled_ar = scale(y)"
   ]
  },
  {
   "cell_type": "code",
   "execution_count": 19,
   "id": "8272fcc6",
   "metadata": {},
   "outputs": [
    {
     "name": "stdout",
     "output_type": "stream",
     "text": [
      "                                 OLS Regression Results                                \n",
      "=======================================================================================\n",
      "Dep. Variable:                  Price   R-squared (uncentered):                   0.950\n",
      "Model:                            OLS   Adj. R-squared (uncentered):              0.931\n",
      "Method:                 Least Squares   F-statistic:                              49.25\n",
      "Date:                Mon, 22 Sep 2025   Prob (F-statistic):                    1.85e-10\n",
      "Time:                        16:54:16   Log-Likelihood:                          2.0684\n",
      "No. Observations:                  25   AIC:                                      9.863\n",
      "Df Residuals:                      18   BIC:                                      18.40\n",
      "Df Model:                           7                                                  \n",
      "Covariance Type:            nonrobust                                                  \n",
      "=================================================================================\n",
      "                    coef    std err          t      P>|t|      [0.025      0.975]\n",
      "---------------------------------------------------------------------------------\n",
      "minutes          -0.0518      0.055     -0.950      0.355      -0.166       0.063\n",
      "Area              0.9627      0.082     11.803      0.000       0.791       1.134\n",
      "Year             -0.1727      0.083     -2.085      0.052      -0.347       0.001\n",
      "BCR              -0.0224      0.081     -0.275      0.786      -0.194       0.149\n",
      "FAR              -0.1017      0.068     -1.491      0.153      -0.245       0.042\n",
      "Reformed          0.0365      0.078      0.466      0.647      -0.128       0.201\n",
      "Structure_ＳＲＣ     0.0033      0.064      0.051      0.960      -0.131       0.138\n",
      "==============================================================================\n",
      "Omnibus:                       16.600   Durbin-Watson:                   0.956\n",
      "Prob(Omnibus):                  0.000   Jarque-Bera (JB):               21.712\n",
      "Skew:                           1.377   Prob(JB):                     1.93e-05\n",
      "Kurtosis:                       6.642   Cond. No.                         3.23\n",
      "==============================================================================\n",
      "\n",
      "Notes:\n",
      "[1] R² is computed without centering (uncentered) since the model does not contain a constant.\n",
      "[2] Standard Errors assume that the covariance matrix of the errors is correctly specified.\n"
     ]
    }
   ],
   "source": [
    "X_scaled = pd.DataFrame(X_scaled_ar, columns=X_dumm.columns)\n",
    "y_scaled = pd.Series(y_scaled_ar, name=y.name)\n",
    "model = sm.OLS(y_scaled, X_scaled)\n",
    "results_scaled = model.fit()\n",
    "print(results_scaled.summary())"
   ]
  },
  {
   "cell_type": "code",
   "execution_count": 20,
   "id": "6c7ab0bd",
   "metadata": {},
   "outputs": [
    {
     "name": "stdout",
     "output_type": "stream",
     "text": [
      "Area             0.962703\n",
      "Year            -0.172663\n",
      "FAR             -0.101733\n",
      "minutes         -0.051779\n",
      "Reformed         0.036470\n",
      "BCR             -0.022436\n",
      "Structure_ＳＲＣ    0.003291\n",
      "dtype: float64\n"
     ]
    }
   ],
   "source": [
    "print(results_scaled.params.sort_values(key=np.abs, ascending=False))"
   ]
  }
 ],
 "metadata": {
  "kernelspec": {
   "display_name": "ds2025",
   "language": "python",
   "name": "python3"
  },
  "language_info": {
   "codemirror_mode": {
    "name": "ipython",
    "version": 3
   },
   "file_extension": ".py",
   "mimetype": "text/x-python",
   "name": "python",
   "nbconvert_exporter": "python",
   "pygments_lexer": "ipython3",
   "version": "3.9.15"
  }
 },
 "nbformat": 4,
 "nbformat_minor": 5
}
